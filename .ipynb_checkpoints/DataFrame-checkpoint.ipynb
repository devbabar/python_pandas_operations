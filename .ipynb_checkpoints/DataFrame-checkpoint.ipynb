{
 "cells": [
  {
   "cell_type": "markdown",
   "metadata": {
    "collapsed": true
   },
   "source": [
    "# DataFrame"
   ]
  },
  {
   "cell_type": "code",
   "execution_count": 1,
   "metadata": {},
   "outputs": [],
   "source": [
    "import numpy as np"
   ]
  },
  {
   "cell_type": "code",
   "execution_count": 2,
   "metadata": {},
   "outputs": [],
   "source": [
    "import pandas as pd"
   ]
  },
  {
   "cell_type": "code",
   "execution_count": 3,
   "metadata": {},
   "outputs": [],
   "source": [
    "# import randn to generate random numbers\n",
    "from numpy.random import randn"
   ]
  },
  {
   "cell_type": "markdown",
   "metadata": {},
   "source": [
    "#### Create a DataFrame\n",
    "Parameters pd.DataFrame(data=None, index=None, columns=None, dtype=None, copy=False)"
   ]
  },
  {
   "cell_type": "code",
   "execution_count": 4,
   "metadata": {},
   "outputs": [
    {
     "data": {
      "text/html": [
       "<div>\n",
       "<style scoped>\n",
       "    .dataframe tbody tr th:only-of-type {\n",
       "        vertical-align: middle;\n",
       "    }\n",
       "\n",
       "    .dataframe tbody tr th {\n",
       "        vertical-align: top;\n",
       "    }\n",
       "\n",
       "    .dataframe thead th {\n",
       "        text-align: right;\n",
       "    }\n",
       "</style>\n",
       "<table border=\"1\" class=\"dataframe\">\n",
       "  <thead>\n",
       "    <tr style=\"text-align: right;\">\n",
       "      <th></th>\n",
       "      <th>apple</th>\n",
       "      <th>orange</th>\n",
       "      <th>banana</th>\n",
       "      <th>mango</th>\n",
       "    </tr>\n",
       "  </thead>\n",
       "  <tbody>\n",
       "    <tr>\n",
       "      <th>a</th>\n",
       "      <td>1.289639</td>\n",
       "      <td>0.196870</td>\n",
       "      <td>-0.191824</td>\n",
       "      <td>0.085701</td>\n",
       "    </tr>\n",
       "    <tr>\n",
       "      <th>b</th>\n",
       "      <td>1.226099</td>\n",
       "      <td>-0.704879</td>\n",
       "      <td>0.825065</td>\n",
       "      <td>1.396669</td>\n",
       "    </tr>\n",
       "    <tr>\n",
       "      <th>c</th>\n",
       "      <td>0.386236</td>\n",
       "      <td>0.788935</td>\n",
       "      <td>0.691029</td>\n",
       "      <td>1.539689</td>\n",
       "    </tr>\n",
       "    <tr>\n",
       "      <th>d</th>\n",
       "      <td>-0.774014</td>\n",
       "      <td>0.451101</td>\n",
       "      <td>0.154099</td>\n",
       "      <td>1.267538</td>\n",
       "    </tr>\n",
       "    <tr>\n",
       "      <th>e</th>\n",
       "      <td>-2.017397</td>\n",
       "      <td>-0.974050</td>\n",
       "      <td>-0.269219</td>\n",
       "      <td>-0.487416</td>\n",
       "    </tr>\n",
       "  </tbody>\n",
       "</table>\n",
       "</div>"
      ],
      "text/plain": [
       "      apple    orange    banana     mango\n",
       "a  1.289639  0.196870 -0.191824  0.085701\n",
       "b  1.226099 -0.704879  0.825065  1.396669\n",
       "c  0.386236  0.788935  0.691029  1.539689\n",
       "d -0.774014  0.451101  0.154099  1.267538\n",
       "e -2.017397 -0.974050 -0.269219 -0.487416"
      ]
     },
     "execution_count": 4,
     "metadata": {},
     "output_type": "execute_result"
    }
   ],
   "source": [
    "# DataFrame with random numbers, 5 rows, 4 columns\n",
    "df=pd.DataFrame(data=randn(5,4), index= ['a','b','c','d','e'], columns=['apple','orange','banana','mango'])\n",
    "df"
   ]
  },
  {
   "cell_type": "markdown",
   "metadata": {},
   "source": [
    "#### how to grab any column, it return a Series"
   ]
  },
  {
   "cell_type": "code",
   "execution_count": 5,
   "metadata": {},
   "outputs": [
    {
     "data": {
      "text/plain": [
       "a    1.289639\n",
       "b    1.226099\n",
       "c    0.386236\n",
       "d   -0.774014\n",
       "e   -2.017397\n",
       "Name: apple, dtype: float64"
      ]
     },
     "execution_count": 5,
     "metadata": {},
     "output_type": "execute_result"
    }
   ],
   "source": [
    "# First way:\n",
    "df['apple']"
   ]
  },
  {
   "cell_type": "code",
   "execution_count": 6,
   "metadata": {},
   "outputs": [
    {
     "data": {
      "text/plain": [
       "a    1.289639\n",
       "b    1.226099\n",
       "c    0.386236\n",
       "d   -0.774014\n",
       "e   -2.017397\n",
       "Name: apple, dtype: float64"
      ]
     },
     "execution_count": 6,
     "metadata": {},
     "output_type": "execute_result"
    }
   ],
   "source": [
    "#Second way:\n",
    "df.apple"
   ]
  },
  {
   "cell_type": "markdown",
   "metadata": {},
   "source": [
    "#### Grab multiple columns, it will return a DataFrame"
   ]
  },
  {
   "cell_type": "code",
   "execution_count": 7,
   "metadata": {},
   "outputs": [
    {
     "data": {
      "text/html": [
       "<div>\n",
       "<style scoped>\n",
       "    .dataframe tbody tr th:only-of-type {\n",
       "        vertical-align: middle;\n",
       "    }\n",
       "\n",
       "    .dataframe tbody tr th {\n",
       "        vertical-align: top;\n",
       "    }\n",
       "\n",
       "    .dataframe thead th {\n",
       "        text-align: right;\n",
       "    }\n",
       "</style>\n",
       "<table border=\"1\" class=\"dataframe\">\n",
       "  <thead>\n",
       "    <tr style=\"text-align: right;\">\n",
       "      <th></th>\n",
       "      <th>apple</th>\n",
       "      <th>mango</th>\n",
       "    </tr>\n",
       "  </thead>\n",
       "  <tbody>\n",
       "    <tr>\n",
       "      <th>a</th>\n",
       "      <td>1.289639</td>\n",
       "      <td>0.085701</td>\n",
       "    </tr>\n",
       "    <tr>\n",
       "      <th>b</th>\n",
       "      <td>1.226099</td>\n",
       "      <td>1.396669</td>\n",
       "    </tr>\n",
       "    <tr>\n",
       "      <th>c</th>\n",
       "      <td>0.386236</td>\n",
       "      <td>1.539689</td>\n",
       "    </tr>\n",
       "    <tr>\n",
       "      <th>d</th>\n",
       "      <td>-0.774014</td>\n",
       "      <td>1.267538</td>\n",
       "    </tr>\n",
       "    <tr>\n",
       "      <th>e</th>\n",
       "      <td>-2.017397</td>\n",
       "      <td>-0.487416</td>\n",
       "    </tr>\n",
       "  </tbody>\n",
       "</table>\n",
       "</div>"
      ],
      "text/plain": [
       "      apple     mango\n",
       "a  1.289639  0.085701\n",
       "b  1.226099  1.396669\n",
       "c  0.386236  1.539689\n",
       "d -0.774014  1.267538\n",
       "e -2.017397 -0.487416"
      ]
     },
     "execution_count": 7,
     "metadata": {},
     "output_type": "execute_result"
    }
   ],
   "source": [
    "df[['apple','mango']]"
   ]
  },
  {
   "cell_type": "markdown",
   "metadata": {},
   "source": [
    "#### Insert a new column, add two columns and add sum of values into new column"
   ]
  },
  {
   "cell_type": "code",
   "execution_count": 8,
   "metadata": {},
   "outputs": [
    {
     "data": {
      "text/html": [
       "<div>\n",
       "<style>\n",
       "    .dataframe thead tr:only-child th {\n",
       "        text-align: right;\n",
       "    }\n",
       "\n",
       "    .dataframe thead th {\n",
       "        text-align: left;\n",
       "    }\n",
       "\n",
       "    .dataframe tbody tr th {\n",
       "        vertical-align: top;\n",
       "    }\n",
       "</style>\n",
       "<table border=\"1\" class=\"dataframe\">\n",
       "  <thead>\n",
       "    <tr style=\"text-align: right;\">\n",
       "      <th></th>\n",
       "      <th>apple</th>\n",
       "      <th>orange</th>\n",
       "      <th>banana</th>\n",
       "      <th>mango</th>\n",
       "      <th>cherry</th>\n",
       "    </tr>\n",
       "  </thead>\n",
       "  <tbody>\n",
       "    <tr>\n",
       "      <th>a</th>\n",
       "      <td>1.945499</td>\n",
       "      <td>-0.790929</td>\n",
       "      <td>0.113086</td>\n",
       "      <td>0.971008</td>\n",
       "      <td>1.154570</td>\n",
       "    </tr>\n",
       "    <tr>\n",
       "      <th>b</th>\n",
       "      <td>0.111957</td>\n",
       "      <td>1.088596</td>\n",
       "      <td>-1.818121</td>\n",
       "      <td>1.530146</td>\n",
       "      <td>1.200553</td>\n",
       "    </tr>\n",
       "    <tr>\n",
       "      <th>c</th>\n",
       "      <td>-0.365011</td>\n",
       "      <td>-0.365316</td>\n",
       "      <td>0.615051</td>\n",
       "      <td>-1.176710</td>\n",
       "      <td>-0.730326</td>\n",
       "    </tr>\n",
       "    <tr>\n",
       "      <th>d</th>\n",
       "      <td>0.413228</td>\n",
       "      <td>0.828821</td>\n",
       "      <td>-0.192204</td>\n",
       "      <td>1.240294</td>\n",
       "      <td>1.242048</td>\n",
       "    </tr>\n",
       "    <tr>\n",
       "      <th>e</th>\n",
       "      <td>-1.957988</td>\n",
       "      <td>1.780609</td>\n",
       "      <td>0.149691</td>\n",
       "      <td>0.586205</td>\n",
       "      <td>-0.177379</td>\n",
       "    </tr>\n",
       "  </tbody>\n",
       "</table>\n",
       "</div>"
      ],
      "text/plain": [
       "      apple    orange    banana     mango    cherry\n",
       "a  1.945499 -0.790929  0.113086  0.971008  1.154570\n",
       "b  0.111957  1.088596 -1.818121  1.530146  1.200553\n",
       "c -0.365011 -0.365316  0.615051 -1.176710 -0.730326\n",
       "d  0.413228  0.828821 -0.192204  1.240294  1.242048\n",
       "e -1.957988  1.780609  0.149691  0.586205 -0.177379"
      ]
     },
     "execution_count": 8,
     "metadata": {},
     "output_type": "execute_result"
    }
   ],
   "source": [
    "df['cherry']=df['apple']+df['orange']\n",
    "df"
   ]
  },
  {
   "cell_type": "markdown",
   "metadata": {},
   "source": [
    "#### Drop or delete any column\n",
    "Note: By default, inplace=False, if you want a permanent change in DataFrame than it should be True"
   ]
  },
  {
   "cell_type": "code",
   "execution_count": 9,
   "metadata": {},
   "outputs": [
    {
     "data": {
      "text/html": [
       "<div>\n",
       "<style>\n",
       "    .dataframe thead tr:only-child th {\n",
       "        text-align: right;\n",
       "    }\n",
       "\n",
       "    .dataframe thead th {\n",
       "        text-align: left;\n",
       "    }\n",
       "\n",
       "    .dataframe tbody tr th {\n",
       "        vertical-align: top;\n",
       "    }\n",
       "</style>\n",
       "<table border=\"1\" class=\"dataframe\">\n",
       "  <thead>\n",
       "    <tr style=\"text-align: right;\">\n",
       "      <th></th>\n",
       "      <th>apple</th>\n",
       "      <th>orange</th>\n",
       "      <th>banana</th>\n",
       "      <th>cherry</th>\n",
       "    </tr>\n",
       "  </thead>\n",
       "  <tbody>\n",
       "    <tr>\n",
       "      <th>a</th>\n",
       "      <td>1.945499</td>\n",
       "      <td>-0.790929</td>\n",
       "      <td>0.113086</td>\n",
       "      <td>1.154570</td>\n",
       "    </tr>\n",
       "    <tr>\n",
       "      <th>b</th>\n",
       "      <td>0.111957</td>\n",
       "      <td>1.088596</td>\n",
       "      <td>-1.818121</td>\n",
       "      <td>1.200553</td>\n",
       "    </tr>\n",
       "    <tr>\n",
       "      <th>c</th>\n",
       "      <td>-0.365011</td>\n",
       "      <td>-0.365316</td>\n",
       "      <td>0.615051</td>\n",
       "      <td>-0.730326</td>\n",
       "    </tr>\n",
       "    <tr>\n",
       "      <th>d</th>\n",
       "      <td>0.413228</td>\n",
       "      <td>0.828821</td>\n",
       "      <td>-0.192204</td>\n",
       "      <td>1.242048</td>\n",
       "    </tr>\n",
       "    <tr>\n",
       "      <th>e</th>\n",
       "      <td>-1.957988</td>\n",
       "      <td>1.780609</td>\n",
       "      <td>0.149691</td>\n",
       "      <td>-0.177379</td>\n",
       "    </tr>\n",
       "  </tbody>\n",
       "</table>\n",
       "</div>"
      ],
      "text/plain": [
       "      apple    orange    banana    cherry\n",
       "a  1.945499 -0.790929  0.113086  1.154570\n",
       "b  0.111957  1.088596 -1.818121  1.200553\n",
       "c -0.365011 -0.365316  0.615051 -0.730326\n",
       "d  0.413228  0.828821 -0.192204  1.242048\n",
       "e -1.957988  1.780609  0.149691 -0.177379"
      ]
     },
     "execution_count": 9,
     "metadata": {},
     "output_type": "execute_result"
    }
   ],
   "source": [
    "df.drop('mango',axis=1)"
   ]
  },
  {
   "cell_type": "markdown",
   "metadata": {},
   "source": [
    "#### deleting any row"
   ]
  },
  {
   "cell_type": "code",
   "execution_count": 10,
   "metadata": {},
   "outputs": [
    {
     "data": {
      "text/html": [
       "<div>\n",
       "<style>\n",
       "    .dataframe thead tr:only-child th {\n",
       "        text-align: right;\n",
       "    }\n",
       "\n",
       "    .dataframe thead th {\n",
       "        text-align: left;\n",
       "    }\n",
       "\n",
       "    .dataframe tbody tr th {\n",
       "        vertical-align: top;\n",
       "    }\n",
       "</style>\n",
       "<table border=\"1\" class=\"dataframe\">\n",
       "  <thead>\n",
       "    <tr style=\"text-align: right;\">\n",
       "      <th></th>\n",
       "      <th>apple</th>\n",
       "      <th>orange</th>\n",
       "      <th>banana</th>\n",
       "      <th>mango</th>\n",
       "      <th>cherry</th>\n",
       "    </tr>\n",
       "  </thead>\n",
       "  <tbody>\n",
       "    <tr>\n",
       "      <th>b</th>\n",
       "      <td>0.111957</td>\n",
       "      <td>1.088596</td>\n",
       "      <td>-1.818121</td>\n",
       "      <td>1.530146</td>\n",
       "      <td>1.200553</td>\n",
       "    </tr>\n",
       "    <tr>\n",
       "      <th>c</th>\n",
       "      <td>-0.365011</td>\n",
       "      <td>-0.365316</td>\n",
       "      <td>0.615051</td>\n",
       "      <td>-1.176710</td>\n",
       "      <td>-0.730326</td>\n",
       "    </tr>\n",
       "    <tr>\n",
       "      <th>d</th>\n",
       "      <td>0.413228</td>\n",
       "      <td>0.828821</td>\n",
       "      <td>-0.192204</td>\n",
       "      <td>1.240294</td>\n",
       "      <td>1.242048</td>\n",
       "    </tr>\n",
       "    <tr>\n",
       "      <th>e</th>\n",
       "      <td>-1.957988</td>\n",
       "      <td>1.780609</td>\n",
       "      <td>0.149691</td>\n",
       "      <td>0.586205</td>\n",
       "      <td>-0.177379</td>\n",
       "    </tr>\n",
       "  </tbody>\n",
       "</table>\n",
       "</div>"
      ],
      "text/plain": [
       "      apple    orange    banana     mango    cherry\n",
       "b  0.111957  1.088596 -1.818121  1.530146  1.200553\n",
       "c -0.365011 -0.365316  0.615051 -1.176710 -0.730326\n",
       "d  0.413228  0.828821 -0.192204  1.240294  1.242048\n",
       "e -1.957988  1.780609  0.149691  0.586205 -0.177379"
      ]
     },
     "execution_count": 10,
     "metadata": {},
     "output_type": "execute_result"
    }
   ],
   "source": [
    "df.drop('a', axis=0)"
   ]
  },
  {
   "cell_type": "markdown",
   "metadata": {},
   "source": [
    "#### Selecting rows using loc( ) and iloc( ) method."
   ]
  },
  {
   "cell_type": "code",
   "execution_count": 11,
   "metadata": {},
   "outputs": [
    {
     "data": {
      "text/plain": [
       "apple     1.945499\n",
       "orange   -0.790929\n",
       "banana    0.113086\n",
       "mango     0.971008\n",
       "cherry    1.154570\n",
       "Name: a, dtype: float64"
      ]
     },
     "execution_count": 11,
     "metadata": {},
     "output_type": "execute_result"
    }
   ],
   "source": [
    "# it will return series\n",
    "df.loc['a']"
   ]
  },
  {
   "cell_type": "code",
   "execution_count": 12,
   "metadata": {},
   "outputs": [
    {
     "data": {
      "text/html": [
       "<div>\n",
       "<style>\n",
       "    .dataframe thead tr:only-child th {\n",
       "        text-align: right;\n",
       "    }\n",
       "\n",
       "    .dataframe thead th {\n",
       "        text-align: left;\n",
       "    }\n",
       "\n",
       "    .dataframe tbody tr th {\n",
       "        vertical-align: top;\n",
       "    }\n",
       "</style>\n",
       "<table border=\"1\" class=\"dataframe\">\n",
       "  <thead>\n",
       "    <tr style=\"text-align: right;\">\n",
       "      <th></th>\n",
       "      <th>apple</th>\n",
       "      <th>orange</th>\n",
       "      <th>banana</th>\n",
       "      <th>mango</th>\n",
       "      <th>cherry</th>\n",
       "    </tr>\n",
       "  </thead>\n",
       "  <tbody>\n",
       "    <tr>\n",
       "      <th>a</th>\n",
       "      <td>1.945499</td>\n",
       "      <td>-0.790929</td>\n",
       "      <td>0.113086</td>\n",
       "      <td>0.971008</td>\n",
       "      <td>1.154570</td>\n",
       "    </tr>\n",
       "    <tr>\n",
       "      <th>b</th>\n",
       "      <td>0.111957</td>\n",
       "      <td>1.088596</td>\n",
       "      <td>-1.818121</td>\n",
       "      <td>1.530146</td>\n",
       "      <td>1.200553</td>\n",
       "    </tr>\n",
       "  </tbody>\n",
       "</table>\n",
       "</div>"
      ],
      "text/plain": [
       "      apple    orange    banana     mango    cherry\n",
       "a  1.945499 -0.790929  0.113086  0.971008  1.154570\n",
       "b  0.111957  1.088596 -1.818121  1.530146  1.200553"
      ]
     },
     "execution_count": 12,
     "metadata": {},
     "output_type": "execute_result"
    }
   ],
   "source": [
    "# multiple rows return Dataframe\n",
    "df.loc[['a','b']]"
   ]
  },
  {
   "cell_type": "code",
   "execution_count": 13,
   "metadata": {},
   "outputs": [
    {
     "data": {
      "text/plain": [
       "1.2402936205751314"
      ]
     },
     "execution_count": 13,
     "metadata": {},
     "output_type": "execute_result"
    }
   ],
   "source": [
    "# We could also grab a specific item in the DataFrame, e.g row = d , column = mango.\n",
    "df.loc['d','mango']"
   ]
  },
  {
   "cell_type": "code",
   "execution_count": 14,
   "metadata": {},
   "outputs": [
    {
     "data": {
      "text/html": [
       "<div>\n",
       "<style>\n",
       "    .dataframe thead tr:only-child th {\n",
       "        text-align: right;\n",
       "    }\n",
       "\n",
       "    .dataframe thead th {\n",
       "        text-align: left;\n",
       "    }\n",
       "\n",
       "    .dataframe tbody tr th {\n",
       "        vertical-align: top;\n",
       "    }\n",
       "</style>\n",
       "<table border=\"1\" class=\"dataframe\">\n",
       "  <thead>\n",
       "    <tr style=\"text-align: right;\">\n",
       "      <th></th>\n",
       "      <th>mango</th>\n",
       "      <th>cherry</th>\n",
       "    </tr>\n",
       "  </thead>\n",
       "  <tbody>\n",
       "    <tr>\n",
       "      <th>a</th>\n",
       "      <td>0.971008</td>\n",
       "      <td>1.154570</td>\n",
       "    </tr>\n",
       "    <tr>\n",
       "      <th>b</th>\n",
       "      <td>1.530146</td>\n",
       "      <td>1.200553</td>\n",
       "    </tr>\n",
       "  </tbody>\n",
       "</table>\n",
       "</div>"
      ],
      "text/plain": [
       "      mango    cherry\n",
       "a  0.971008  1.154570\n",
       "b  1.530146  1.200553"
      ]
     },
     "execution_count": 14,
     "metadata": {},
     "output_type": "execute_result"
    }
   ],
   "source": [
    "# get a subset, rows = a & b, columns = mango and cherry\n",
    "df.loc[['a','b'],['mango','cherry']]"
   ]
  },
  {
   "cell_type": "code",
   "execution_count": 15,
   "metadata": {},
   "outputs": [
    {
     "data": {
      "text/plain": [
       "apple     0.413228\n",
       "orange    0.828821\n",
       "banana   -0.192204\n",
       "mango     1.240294\n",
       "cherry    1.242048\n",
       "Name: d, dtype: float64"
      ]
     },
     "execution_count": 15,
     "metadata": {},
     "output_type": "execute_result"
    }
   ],
   "source": [
    "# iloc() select index location, e.g select 'd'\n",
    "df.iloc[3]"
   ]
  },
  {
   "cell_type": "code",
   "execution_count": 16,
   "metadata": {},
   "outputs": [
    {
     "data": {
      "text/plain": [
       "-0.19220352115993006"
      ]
     },
     "execution_count": 16,
     "metadata": {},
     "output_type": "execute_result"
    }
   ],
   "source": [
    "# We could also grab a specific item in the DataFrame, e.g row = 3, column = 2.\n",
    "df.iloc[3,2]"
   ]
  },
  {
   "cell_type": "code",
   "execution_count": 17,
   "metadata": {},
   "outputs": [
    {
     "data": {
      "text/html": [
       "<div>\n",
       "<style>\n",
       "    .dataframe thead tr:only-child th {\n",
       "        text-align: right;\n",
       "    }\n",
       "\n",
       "    .dataframe thead th {\n",
       "        text-align: left;\n",
       "    }\n",
       "\n",
       "    .dataframe tbody tr th {\n",
       "        vertical-align: top;\n",
       "    }\n",
       "</style>\n",
       "<table border=\"1\" class=\"dataframe\">\n",
       "  <thead>\n",
       "    <tr style=\"text-align: right;\">\n",
       "      <th></th>\n",
       "      <th>apple</th>\n",
       "      <th>orange</th>\n",
       "    </tr>\n",
       "  </thead>\n",
       "  <tbody>\n",
       "    <tr>\n",
       "      <th>b</th>\n",
       "      <td>0.111957</td>\n",
       "      <td>1.088596</td>\n",
       "    </tr>\n",
       "    <tr>\n",
       "      <th>c</th>\n",
       "      <td>-0.365011</td>\n",
       "      <td>-0.365316</td>\n",
       "    </tr>\n",
       "  </tbody>\n",
       "</table>\n",
       "</div>"
      ],
      "text/plain": [
       "      apple    orange\n",
       "b  0.111957  1.088596\n",
       "c -0.365011 -0.365316"
      ]
     },
     "execution_count": 17,
     "metadata": {},
     "output_type": "execute_result"
    }
   ],
   "source": [
    "# get a subset, rows = 1 & 2, columns = 0 & 1\n",
    "df.iloc[[1,2],[0,1]]"
   ]
  },
  {
   "cell_type": "markdown",
   "metadata": {},
   "source": [
    "# Conditional Operations"
   ]
  },
  {
   "cell_type": "code",
   "execution_count": 18,
   "metadata": {},
   "outputs": [
    {
     "data": {
      "text/html": [
       "<div>\n",
       "<style>\n",
       "    .dataframe thead tr:only-child th {\n",
       "        text-align: right;\n",
       "    }\n",
       "\n",
       "    .dataframe thead th {\n",
       "        text-align: left;\n",
       "    }\n",
       "\n",
       "    .dataframe tbody tr th {\n",
       "        vertical-align: top;\n",
       "    }\n",
       "</style>\n",
       "<table border=\"1\" class=\"dataframe\">\n",
       "  <thead>\n",
       "    <tr style=\"text-align: right;\">\n",
       "      <th></th>\n",
       "      <th>apple</th>\n",
       "      <th>orange</th>\n",
       "      <th>banana</th>\n",
       "      <th>mango</th>\n",
       "      <th>cherry</th>\n",
       "    </tr>\n",
       "  </thead>\n",
       "  <tbody>\n",
       "    <tr>\n",
       "      <th>a</th>\n",
       "      <td>1.945499</td>\n",
       "      <td>-0.790929</td>\n",
       "      <td>0.113086</td>\n",
       "      <td>0.971008</td>\n",
       "      <td>1.154570</td>\n",
       "    </tr>\n",
       "    <tr>\n",
       "      <th>b</th>\n",
       "      <td>0.111957</td>\n",
       "      <td>1.088596</td>\n",
       "      <td>-1.818121</td>\n",
       "      <td>1.530146</td>\n",
       "      <td>1.200553</td>\n",
       "    </tr>\n",
       "    <tr>\n",
       "      <th>c</th>\n",
       "      <td>-0.365011</td>\n",
       "      <td>-0.365316</td>\n",
       "      <td>0.615051</td>\n",
       "      <td>-1.176710</td>\n",
       "      <td>-0.730326</td>\n",
       "    </tr>\n",
       "    <tr>\n",
       "      <th>d</th>\n",
       "      <td>0.413228</td>\n",
       "      <td>0.828821</td>\n",
       "      <td>-0.192204</td>\n",
       "      <td>1.240294</td>\n",
       "      <td>1.242048</td>\n",
       "    </tr>\n",
       "    <tr>\n",
       "      <th>e</th>\n",
       "      <td>-1.957988</td>\n",
       "      <td>1.780609</td>\n",
       "      <td>0.149691</td>\n",
       "      <td>0.586205</td>\n",
       "      <td>-0.177379</td>\n",
       "    </tr>\n",
       "  </tbody>\n",
       "</table>\n",
       "</div>"
      ],
      "text/plain": [
       "      apple    orange    banana     mango    cherry\n",
       "a  1.945499 -0.790929  0.113086  0.971008  1.154570\n",
       "b  0.111957  1.088596 -1.818121  1.530146  1.200553\n",
       "c -0.365011 -0.365316  0.615051 -1.176710 -0.730326\n",
       "d  0.413228  0.828821 -0.192204  1.240294  1.242048\n",
       "e -1.957988  1.780609  0.149691  0.586205 -0.177379"
      ]
     },
     "execution_count": 18,
     "metadata": {},
     "output_type": "execute_result"
    }
   ],
   "source": [
    "df"
   ]
  },
  {
   "cell_type": "markdown",
   "metadata": {},
   "source": [
    "#### show values which are greater than 0, return boolean values."
   ]
  },
  {
   "cell_type": "code",
   "execution_count": 19,
   "metadata": {},
   "outputs": [
    {
     "data": {
      "text/html": [
       "<div>\n",
       "<style>\n",
       "    .dataframe thead tr:only-child th {\n",
       "        text-align: right;\n",
       "    }\n",
       "\n",
       "    .dataframe thead th {\n",
       "        text-align: left;\n",
       "    }\n",
       "\n",
       "    .dataframe tbody tr th {\n",
       "        vertical-align: top;\n",
       "    }\n",
       "</style>\n",
       "<table border=\"1\" class=\"dataframe\">\n",
       "  <thead>\n",
       "    <tr style=\"text-align: right;\">\n",
       "      <th></th>\n",
       "      <th>apple</th>\n",
       "      <th>orange</th>\n",
       "      <th>banana</th>\n",
       "      <th>mango</th>\n",
       "      <th>cherry</th>\n",
       "    </tr>\n",
       "  </thead>\n",
       "  <tbody>\n",
       "    <tr>\n",
       "      <th>a</th>\n",
       "      <td>True</td>\n",
       "      <td>False</td>\n",
       "      <td>True</td>\n",
       "      <td>True</td>\n",
       "      <td>True</td>\n",
       "    </tr>\n",
       "    <tr>\n",
       "      <th>b</th>\n",
       "      <td>True</td>\n",
       "      <td>True</td>\n",
       "      <td>False</td>\n",
       "      <td>True</td>\n",
       "      <td>True</td>\n",
       "    </tr>\n",
       "    <tr>\n",
       "      <th>c</th>\n",
       "      <td>False</td>\n",
       "      <td>False</td>\n",
       "      <td>True</td>\n",
       "      <td>False</td>\n",
       "      <td>False</td>\n",
       "    </tr>\n",
       "    <tr>\n",
       "      <th>d</th>\n",
       "      <td>True</td>\n",
       "      <td>True</td>\n",
       "      <td>False</td>\n",
       "      <td>True</td>\n",
       "      <td>True</td>\n",
       "    </tr>\n",
       "    <tr>\n",
       "      <th>e</th>\n",
       "      <td>False</td>\n",
       "      <td>True</td>\n",
       "      <td>True</td>\n",
       "      <td>True</td>\n",
       "      <td>False</td>\n",
       "    </tr>\n",
       "  </tbody>\n",
       "</table>\n",
       "</div>"
      ],
      "text/plain": [
       "   apple  orange  banana  mango  cherry\n",
       "a   True   False    True   True    True\n",
       "b   True    True   False   True    True\n",
       "c  False   False    True  False   False\n",
       "d   True    True   False   True    True\n",
       "e  False    True    True   True   False"
      ]
     },
     "execution_count": 19,
     "metadata": {},
     "output_type": "execute_result"
    }
   ],
   "source": [
    "df>0"
   ]
  },
  {
   "cell_type": "code",
   "execution_count": 20,
   "metadata": {},
   "outputs": [
    {
     "data": {
      "text/plain": [
       "a     True\n",
       "b     True\n",
       "c    False\n",
       "d     True\n",
       "e    False\n",
       "Name: apple, dtype: bool"
      ]
     },
     "execution_count": 20,
     "metadata": {},
     "output_type": "execute_result"
    }
   ],
   "source": [
    "# we can apply condition on only one column, will return boolean\n",
    "df['apple']>0"
   ]
  },
  {
   "cell_type": "code",
   "execution_count": 21,
   "metadata": {},
   "outputs": [
    {
     "data": {
      "text/html": [
       "<div>\n",
       "<style>\n",
       "    .dataframe thead tr:only-child th {\n",
       "        text-align: right;\n",
       "    }\n",
       "\n",
       "    .dataframe thead th {\n",
       "        text-align: left;\n",
       "    }\n",
       "\n",
       "    .dataframe tbody tr th {\n",
       "        vertical-align: top;\n",
       "    }\n",
       "</style>\n",
       "<table border=\"1\" class=\"dataframe\">\n",
       "  <thead>\n",
       "    <tr style=\"text-align: right;\">\n",
       "      <th></th>\n",
       "      <th>banana</th>\n",
       "      <th>mango</th>\n",
       "    </tr>\n",
       "  </thead>\n",
       "  <tbody>\n",
       "    <tr>\n",
       "      <th>a</th>\n",
       "      <td>0.113086</td>\n",
       "      <td>0.971008</td>\n",
       "    </tr>\n",
       "    <tr>\n",
       "      <th>b</th>\n",
       "      <td>-1.818121</td>\n",
       "      <td>1.530146</td>\n",
       "    </tr>\n",
       "    <tr>\n",
       "      <th>d</th>\n",
       "      <td>-0.192204</td>\n",
       "      <td>1.240294</td>\n",
       "    </tr>\n",
       "  </tbody>\n",
       "</table>\n",
       "</div>"
      ],
      "text/plain": [
       "     banana     mango\n",
       "a  0.113086  0.971008\n",
       "b -1.818121  1.530146\n",
       "d -0.192204  1.240294"
      ]
     },
     "execution_count": 21,
     "metadata": {},
     "output_type": "execute_result"
    }
   ],
   "source": [
    "# Another way of doing above and also display addition columns such as banana and mango, return positive rows with\n",
    "#respect of 'apple'.\n",
    "df[df['apple']>0][['banana','mango']]"
   ]
  },
  {
   "cell_type": "code",
   "execution_count": 22,
   "metadata": {},
   "outputs": [
    {
     "data": {
      "text/html": [
       "<div>\n",
       "<style>\n",
       "    .dataframe thead tr:only-child th {\n",
       "        text-align: right;\n",
       "    }\n",
       "\n",
       "    .dataframe thead th {\n",
       "        text-align: left;\n",
       "    }\n",
       "\n",
       "    .dataframe tbody tr th {\n",
       "        vertical-align: top;\n",
       "    }\n",
       "</style>\n",
       "<table border=\"1\" class=\"dataframe\">\n",
       "  <thead>\n",
       "    <tr style=\"text-align: right;\">\n",
       "      <th></th>\n",
       "      <th>apple</th>\n",
       "      <th>orange</th>\n",
       "      <th>banana</th>\n",
       "      <th>mango</th>\n",
       "      <th>cherry</th>\n",
       "    </tr>\n",
       "  </thead>\n",
       "  <tbody>\n",
       "    <tr>\n",
       "      <th>a</th>\n",
       "      <td>1.945499</td>\n",
       "      <td>-0.790929</td>\n",
       "      <td>0.113086</td>\n",
       "      <td>0.971008</td>\n",
       "      <td>1.154570</td>\n",
       "    </tr>\n",
       "    <tr>\n",
       "      <th>b</th>\n",
       "      <td>0.111957</td>\n",
       "      <td>1.088596</td>\n",
       "      <td>-1.818121</td>\n",
       "      <td>1.530146</td>\n",
       "      <td>1.200553</td>\n",
       "    </tr>\n",
       "    <tr>\n",
       "      <th>d</th>\n",
       "      <td>0.413228</td>\n",
       "      <td>0.828821</td>\n",
       "      <td>-0.192204</td>\n",
       "      <td>1.240294</td>\n",
       "      <td>1.242048</td>\n",
       "    </tr>\n",
       "  </tbody>\n",
       "</table>\n",
       "</div>"
      ],
      "text/plain": [
       "      apple    orange    banana     mango    cherry\n",
       "a  1.945499 -0.790929  0.113086  0.971008  1.154570\n",
       "b  0.111957  1.088596 -1.818121  1.530146  1.200553\n",
       "d  0.413228  0.828821 -0.192204  1.240294  1.242048"
      ]
     },
     "execution_count": 22,
     "metadata": {},
     "output_type": "execute_result"
    }
   ],
   "source": [
    "# we can get the whole DataFrame back but only apply condition to only one column, e.g 'apple, return only True rows.\n",
    "df[df['apple']>0]"
   ]
  },
  {
   "cell_type": "code",
   "execution_count": 23,
   "metadata": {},
   "outputs": [
    {
     "data": {
      "text/html": [
       "<div>\n",
       "<style>\n",
       "    .dataframe thead tr:only-child th {\n",
       "        text-align: right;\n",
       "    }\n",
       "\n",
       "    .dataframe thead th {\n",
       "        text-align: left;\n",
       "    }\n",
       "\n",
       "    .dataframe tbody tr th {\n",
       "        vertical-align: top;\n",
       "    }\n",
       "</style>\n",
       "<table border=\"1\" class=\"dataframe\">\n",
       "  <thead>\n",
       "    <tr style=\"text-align: right;\">\n",
       "      <th></th>\n",
       "      <th>apple</th>\n",
       "      <th>orange</th>\n",
       "      <th>banana</th>\n",
       "      <th>mango</th>\n",
       "      <th>cherry</th>\n",
       "    </tr>\n",
       "  </thead>\n",
       "  <tbody>\n",
       "    <tr>\n",
       "      <th>a</th>\n",
       "      <td>1.945499</td>\n",
       "      <td>NaN</td>\n",
       "      <td>0.113086</td>\n",
       "      <td>0.971008</td>\n",
       "      <td>1.154570</td>\n",
       "    </tr>\n",
       "    <tr>\n",
       "      <th>b</th>\n",
       "      <td>0.111957</td>\n",
       "      <td>1.088596</td>\n",
       "      <td>NaN</td>\n",
       "      <td>1.530146</td>\n",
       "      <td>1.200553</td>\n",
       "    </tr>\n",
       "    <tr>\n",
       "      <th>c</th>\n",
       "      <td>NaN</td>\n",
       "      <td>NaN</td>\n",
       "      <td>0.615051</td>\n",
       "      <td>NaN</td>\n",
       "      <td>NaN</td>\n",
       "    </tr>\n",
       "    <tr>\n",
       "      <th>d</th>\n",
       "      <td>0.413228</td>\n",
       "      <td>0.828821</td>\n",
       "      <td>NaN</td>\n",
       "      <td>1.240294</td>\n",
       "      <td>1.242048</td>\n",
       "    </tr>\n",
       "    <tr>\n",
       "      <th>e</th>\n",
       "      <td>NaN</td>\n",
       "      <td>1.780609</td>\n",
       "      <td>0.149691</td>\n",
       "      <td>0.586205</td>\n",
       "      <td>NaN</td>\n",
       "    </tr>\n",
       "  </tbody>\n",
       "</table>\n",
       "</div>"
      ],
      "text/plain": [
       "      apple    orange    banana     mango    cherry\n",
       "a  1.945499       NaN  0.113086  0.971008  1.154570\n",
       "b  0.111957  1.088596       NaN  1.530146  1.200553\n",
       "c       NaN       NaN  0.615051       NaN       NaN\n",
       "d  0.413228  0.828821       NaN  1.240294  1.242048\n",
       "e       NaN  1.780609  0.149691  0.586205       NaN"
      ]
     },
     "execution_count": 23,
     "metadata": {},
     "output_type": "execute_result"
    }
   ],
   "source": [
    "df[df>0]"
   ]
  },
  {
   "cell_type": "markdown",
   "metadata": {},
   "source": [
    "### Multiple Conditions \n",
    "##### Show all values greater than 0 in column 'apple' and 'mango'"
   ]
  },
  {
   "cell_type": "code",
   "execution_count": 24,
   "metadata": {},
   "outputs": [
    {
     "data": {
      "text/html": [
       "<div>\n",
       "<style>\n",
       "    .dataframe thead tr:only-child th {\n",
       "        text-align: right;\n",
       "    }\n",
       "\n",
       "    .dataframe thead th {\n",
       "        text-align: left;\n",
       "    }\n",
       "\n",
       "    .dataframe tbody tr th {\n",
       "        vertical-align: top;\n",
       "    }\n",
       "</style>\n",
       "<table border=\"1\" class=\"dataframe\">\n",
       "  <thead>\n",
       "    <tr style=\"text-align: right;\">\n",
       "      <th></th>\n",
       "      <th>apple</th>\n",
       "      <th>orange</th>\n",
       "      <th>banana</th>\n",
       "      <th>mango</th>\n",
       "      <th>cherry</th>\n",
       "    </tr>\n",
       "  </thead>\n",
       "  <tbody>\n",
       "    <tr>\n",
       "      <th>a</th>\n",
       "      <td>1.945499</td>\n",
       "      <td>-0.790929</td>\n",
       "      <td>0.113086</td>\n",
       "      <td>0.971008</td>\n",
       "      <td>1.154570</td>\n",
       "    </tr>\n",
       "    <tr>\n",
       "      <th>b</th>\n",
       "      <td>0.111957</td>\n",
       "      <td>1.088596</td>\n",
       "      <td>-1.818121</td>\n",
       "      <td>1.530146</td>\n",
       "      <td>1.200553</td>\n",
       "    </tr>\n",
       "    <tr>\n",
       "      <th>d</th>\n",
       "      <td>0.413228</td>\n",
       "      <td>0.828821</td>\n",
       "      <td>-0.192204</td>\n",
       "      <td>1.240294</td>\n",
       "      <td>1.242048</td>\n",
       "    </tr>\n",
       "  </tbody>\n",
       "</table>\n",
       "</div>"
      ],
      "text/plain": [
       "      apple    orange    banana     mango    cherry\n",
       "a  1.945499 -0.790929  0.113086  0.971008  1.154570\n",
       "b  0.111957  1.088596 -1.818121  1.530146  1.200553\n",
       "d  0.413228  0.828821 -0.192204  1.240294  1.242048"
      ]
     },
     "execution_count": 24,
     "metadata": {},
     "output_type": "execute_result"
    }
   ],
   "source": [
    "# Both conditions should be true\n",
    "df[(df['apple']>0) & (df['mango']>0)]"
   ]
  },
  {
   "cell_type": "markdown",
   "metadata": {},
   "source": [
    "##### Show all values greater than 0 in column 'apple' or 'mango'"
   ]
  },
  {
   "cell_type": "code",
   "execution_count": 25,
   "metadata": {},
   "outputs": [
    {
     "data": {
      "text/html": [
       "<div>\n",
       "<style>\n",
       "    .dataframe thead tr:only-child th {\n",
       "        text-align: right;\n",
       "    }\n",
       "\n",
       "    .dataframe thead th {\n",
       "        text-align: left;\n",
       "    }\n",
       "\n",
       "    .dataframe tbody tr th {\n",
       "        vertical-align: top;\n",
       "    }\n",
       "</style>\n",
       "<table border=\"1\" class=\"dataframe\">\n",
       "  <thead>\n",
       "    <tr style=\"text-align: right;\">\n",
       "      <th></th>\n",
       "      <th>apple</th>\n",
       "      <th>orange</th>\n",
       "      <th>banana</th>\n",
       "      <th>mango</th>\n",
       "      <th>cherry</th>\n",
       "    </tr>\n",
       "  </thead>\n",
       "  <tbody>\n",
       "    <tr>\n",
       "      <th>a</th>\n",
       "      <td>1.945499</td>\n",
       "      <td>-0.790929</td>\n",
       "      <td>0.113086</td>\n",
       "      <td>0.971008</td>\n",
       "      <td>1.154570</td>\n",
       "    </tr>\n",
       "    <tr>\n",
       "      <th>b</th>\n",
       "      <td>0.111957</td>\n",
       "      <td>1.088596</td>\n",
       "      <td>-1.818121</td>\n",
       "      <td>1.530146</td>\n",
       "      <td>1.200553</td>\n",
       "    </tr>\n",
       "    <tr>\n",
       "      <th>d</th>\n",
       "      <td>0.413228</td>\n",
       "      <td>0.828821</td>\n",
       "      <td>-0.192204</td>\n",
       "      <td>1.240294</td>\n",
       "      <td>1.242048</td>\n",
       "    </tr>\n",
       "    <tr>\n",
       "      <th>e</th>\n",
       "      <td>-1.957988</td>\n",
       "      <td>1.780609</td>\n",
       "      <td>0.149691</td>\n",
       "      <td>0.586205</td>\n",
       "      <td>-0.177379</td>\n",
       "    </tr>\n",
       "  </tbody>\n",
       "</table>\n",
       "</div>"
      ],
      "text/plain": [
       "      apple    orange    banana     mango    cherry\n",
       "a  1.945499 -0.790929  0.113086  0.971008  1.154570\n",
       "b  0.111957  1.088596 -1.818121  1.530146  1.200553\n",
       "d  0.413228  0.828821 -0.192204  1.240294  1.242048\n",
       "e -1.957988  1.780609  0.149691  0.586205 -0.177379"
      ]
     },
     "execution_count": 25,
     "metadata": {},
     "output_type": "execute_result"
    }
   ],
   "source": [
    "# this will return all the values in both columns which are greater than 0.\n",
    "df[(df['apple']>0) | (df['mango']>0)]"
   ]
  },
  {
   "cell_type": "markdown",
   "metadata": {},
   "source": [
    "### Reset index\n",
    "##### Index becomes a new column"
   ]
  },
  {
   "cell_type": "code",
   "execution_count": 26,
   "metadata": {},
   "outputs": [
    {
     "data": {
      "text/html": [
       "<div>\n",
       "<style>\n",
       "    .dataframe thead tr:only-child th {\n",
       "        text-align: right;\n",
       "    }\n",
       "\n",
       "    .dataframe thead th {\n",
       "        text-align: left;\n",
       "    }\n",
       "\n",
       "    .dataframe tbody tr th {\n",
       "        vertical-align: top;\n",
       "    }\n",
       "</style>\n",
       "<table border=\"1\" class=\"dataframe\">\n",
       "  <thead>\n",
       "    <tr style=\"text-align: right;\">\n",
       "      <th></th>\n",
       "      <th>apple</th>\n",
       "      <th>orange</th>\n",
       "      <th>banana</th>\n",
       "      <th>mango</th>\n",
       "      <th>cherry</th>\n",
       "    </tr>\n",
       "  </thead>\n",
       "  <tbody>\n",
       "    <tr>\n",
       "      <th>a</th>\n",
       "      <td>1.945499</td>\n",
       "      <td>-0.790929</td>\n",
       "      <td>0.113086</td>\n",
       "      <td>0.971008</td>\n",
       "      <td>1.154570</td>\n",
       "    </tr>\n",
       "    <tr>\n",
       "      <th>b</th>\n",
       "      <td>0.111957</td>\n",
       "      <td>1.088596</td>\n",
       "      <td>-1.818121</td>\n",
       "      <td>1.530146</td>\n",
       "      <td>1.200553</td>\n",
       "    </tr>\n",
       "    <tr>\n",
       "      <th>c</th>\n",
       "      <td>-0.365011</td>\n",
       "      <td>-0.365316</td>\n",
       "      <td>0.615051</td>\n",
       "      <td>-1.176710</td>\n",
       "      <td>-0.730326</td>\n",
       "    </tr>\n",
       "    <tr>\n",
       "      <th>d</th>\n",
       "      <td>0.413228</td>\n",
       "      <td>0.828821</td>\n",
       "      <td>-0.192204</td>\n",
       "      <td>1.240294</td>\n",
       "      <td>1.242048</td>\n",
       "    </tr>\n",
       "    <tr>\n",
       "      <th>e</th>\n",
       "      <td>-1.957988</td>\n",
       "      <td>1.780609</td>\n",
       "      <td>0.149691</td>\n",
       "      <td>0.586205</td>\n",
       "      <td>-0.177379</td>\n",
       "    </tr>\n",
       "  </tbody>\n",
       "</table>\n",
       "</div>"
      ],
      "text/plain": [
       "      apple    orange    banana     mango    cherry\n",
       "a  1.945499 -0.790929  0.113086  0.971008  1.154570\n",
       "b  0.111957  1.088596 -1.818121  1.530146  1.200553\n",
       "c -0.365011 -0.365316  0.615051 -1.176710 -0.730326\n",
       "d  0.413228  0.828821 -0.192204  1.240294  1.242048\n",
       "e -1.957988  1.780609  0.149691  0.586205 -0.177379"
      ]
     },
     "execution_count": 26,
     "metadata": {},
     "output_type": "execute_result"
    }
   ],
   "source": [
    "df"
   ]
  },
  {
   "cell_type": "code",
   "execution_count": 27,
   "metadata": {},
   "outputs": [
    {
     "data": {
      "text/html": [
       "<div>\n",
       "<style>\n",
       "    .dataframe thead tr:only-child th {\n",
       "        text-align: right;\n",
       "    }\n",
       "\n",
       "    .dataframe thead th {\n",
       "        text-align: left;\n",
       "    }\n",
       "\n",
       "    .dataframe tbody tr th {\n",
       "        vertical-align: top;\n",
       "    }\n",
       "</style>\n",
       "<table border=\"1\" class=\"dataframe\">\n",
       "  <thead>\n",
       "    <tr style=\"text-align: right;\">\n",
       "      <th></th>\n",
       "      <th>index</th>\n",
       "      <th>apple</th>\n",
       "      <th>orange</th>\n",
       "      <th>banana</th>\n",
       "      <th>mango</th>\n",
       "      <th>cherry</th>\n",
       "    </tr>\n",
       "  </thead>\n",
       "  <tbody>\n",
       "    <tr>\n",
       "      <th>0</th>\n",
       "      <td>a</td>\n",
       "      <td>1.945499</td>\n",
       "      <td>-0.790929</td>\n",
       "      <td>0.113086</td>\n",
       "      <td>0.971008</td>\n",
       "      <td>1.154570</td>\n",
       "    </tr>\n",
       "    <tr>\n",
       "      <th>1</th>\n",
       "      <td>b</td>\n",
       "      <td>0.111957</td>\n",
       "      <td>1.088596</td>\n",
       "      <td>-1.818121</td>\n",
       "      <td>1.530146</td>\n",
       "      <td>1.200553</td>\n",
       "    </tr>\n",
       "    <tr>\n",
       "      <th>2</th>\n",
       "      <td>c</td>\n",
       "      <td>-0.365011</td>\n",
       "      <td>-0.365316</td>\n",
       "      <td>0.615051</td>\n",
       "      <td>-1.176710</td>\n",
       "      <td>-0.730326</td>\n",
       "    </tr>\n",
       "    <tr>\n",
       "      <th>3</th>\n",
       "      <td>d</td>\n",
       "      <td>0.413228</td>\n",
       "      <td>0.828821</td>\n",
       "      <td>-0.192204</td>\n",
       "      <td>1.240294</td>\n",
       "      <td>1.242048</td>\n",
       "    </tr>\n",
       "    <tr>\n",
       "      <th>4</th>\n",
       "      <td>e</td>\n",
       "      <td>-1.957988</td>\n",
       "      <td>1.780609</td>\n",
       "      <td>0.149691</td>\n",
       "      <td>0.586205</td>\n",
       "      <td>-0.177379</td>\n",
       "    </tr>\n",
       "  </tbody>\n",
       "</table>\n",
       "</div>"
      ],
      "text/plain": [
       "  index     apple    orange    banana     mango    cherry\n",
       "0     a  1.945499 -0.790929  0.113086  0.971008  1.154570\n",
       "1     b  0.111957  1.088596 -1.818121  1.530146  1.200553\n",
       "2     c -0.365011 -0.365316  0.615051 -1.176710 -0.730326\n",
       "3     d  0.413228  0.828821 -0.192204  1.240294  1.242048\n",
       "4     e -1.957988  1.780609  0.149691  0.586205 -0.177379"
      ]
     },
     "execution_count": 27,
     "metadata": {},
     "output_type": "execute_result"
    }
   ],
   "source": [
    "df.reset_index()"
   ]
  },
  {
   "cell_type": "markdown",
   "metadata": {},
   "source": [
    "#### insert new column and set it as index"
   ]
  },
  {
   "cell_type": "code",
   "execution_count": 28,
   "metadata": {
    "collapsed": true
   },
   "outputs": [],
   "source": [
    "# Step 1, make a list.\n",
    "new_index=['CA','AZ','CO','NY','OR']"
   ]
  },
  {
   "cell_type": "code",
   "execution_count": 29,
   "metadata": {},
   "outputs": [
    {
     "data": {
      "text/html": [
       "<div>\n",
       "<style>\n",
       "    .dataframe thead tr:only-child th {\n",
       "        text-align: right;\n",
       "    }\n",
       "\n",
       "    .dataframe thead th {\n",
       "        text-align: left;\n",
       "    }\n",
       "\n",
       "    .dataframe tbody tr th {\n",
       "        vertical-align: top;\n",
       "    }\n",
       "</style>\n",
       "<table border=\"1\" class=\"dataframe\">\n",
       "  <thead>\n",
       "    <tr style=\"text-align: right;\">\n",
       "      <th></th>\n",
       "      <th>apple</th>\n",
       "      <th>orange</th>\n",
       "      <th>banana</th>\n",
       "      <th>mango</th>\n",
       "      <th>cherry</th>\n",
       "      <th>States</th>\n",
       "    </tr>\n",
       "  </thead>\n",
       "  <tbody>\n",
       "    <tr>\n",
       "      <th>a</th>\n",
       "      <td>1.945499</td>\n",
       "      <td>-0.790929</td>\n",
       "      <td>0.113086</td>\n",
       "      <td>0.971008</td>\n",
       "      <td>1.154570</td>\n",
       "      <td>CA</td>\n",
       "    </tr>\n",
       "    <tr>\n",
       "      <th>b</th>\n",
       "      <td>0.111957</td>\n",
       "      <td>1.088596</td>\n",
       "      <td>-1.818121</td>\n",
       "      <td>1.530146</td>\n",
       "      <td>1.200553</td>\n",
       "      <td>AZ</td>\n",
       "    </tr>\n",
       "    <tr>\n",
       "      <th>c</th>\n",
       "      <td>-0.365011</td>\n",
       "      <td>-0.365316</td>\n",
       "      <td>0.615051</td>\n",
       "      <td>-1.176710</td>\n",
       "      <td>-0.730326</td>\n",
       "      <td>CO</td>\n",
       "    </tr>\n",
       "    <tr>\n",
       "      <th>d</th>\n",
       "      <td>0.413228</td>\n",
       "      <td>0.828821</td>\n",
       "      <td>-0.192204</td>\n",
       "      <td>1.240294</td>\n",
       "      <td>1.242048</td>\n",
       "      <td>NY</td>\n",
       "    </tr>\n",
       "    <tr>\n",
       "      <th>e</th>\n",
       "      <td>-1.957988</td>\n",
       "      <td>1.780609</td>\n",
       "      <td>0.149691</td>\n",
       "      <td>0.586205</td>\n",
       "      <td>-0.177379</td>\n",
       "      <td>OR</td>\n",
       "    </tr>\n",
       "  </tbody>\n",
       "</table>\n",
       "</div>"
      ],
      "text/plain": [
       "      apple    orange    banana     mango    cherry States\n",
       "a  1.945499 -0.790929  0.113086  0.971008  1.154570     CA\n",
       "b  0.111957  1.088596 -1.818121  1.530146  1.200553     AZ\n",
       "c -0.365011 -0.365316  0.615051 -1.176710 -0.730326     CO\n",
       "d  0.413228  0.828821 -0.192204  1.240294  1.242048     NY\n",
       "e -1.957988  1.780609  0.149691  0.586205 -0.177379     OR"
      ]
     },
     "execution_count": 29,
     "metadata": {},
     "output_type": "execute_result"
    }
   ],
   "source": [
    "# Step 2, add a new columns\n",
    "df['States']=new_index\n",
    "df"
   ]
  },
  {
   "cell_type": "code",
   "execution_count": 30,
   "metadata": {},
   "outputs": [
    {
     "data": {
      "text/html": [
       "<div>\n",
       "<style>\n",
       "    .dataframe thead tr:only-child th {\n",
       "        text-align: right;\n",
       "    }\n",
       "\n",
       "    .dataframe thead th {\n",
       "        text-align: left;\n",
       "    }\n",
       "\n",
       "    .dataframe tbody tr th {\n",
       "        vertical-align: top;\n",
       "    }\n",
       "</style>\n",
       "<table border=\"1\" class=\"dataframe\">\n",
       "  <thead>\n",
       "    <tr style=\"text-align: right;\">\n",
       "      <th></th>\n",
       "      <th>apple</th>\n",
       "      <th>orange</th>\n",
       "      <th>banana</th>\n",
       "      <th>mango</th>\n",
       "      <th>cherry</th>\n",
       "    </tr>\n",
       "    <tr>\n",
       "      <th>States</th>\n",
       "      <th></th>\n",
       "      <th></th>\n",
       "      <th></th>\n",
       "      <th></th>\n",
       "      <th></th>\n",
       "    </tr>\n",
       "  </thead>\n",
       "  <tbody>\n",
       "    <tr>\n",
       "      <th>CA</th>\n",
       "      <td>1.945499</td>\n",
       "      <td>-0.790929</td>\n",
       "      <td>0.113086</td>\n",
       "      <td>0.971008</td>\n",
       "      <td>1.154570</td>\n",
       "    </tr>\n",
       "    <tr>\n",
       "      <th>AZ</th>\n",
       "      <td>0.111957</td>\n",
       "      <td>1.088596</td>\n",
       "      <td>-1.818121</td>\n",
       "      <td>1.530146</td>\n",
       "      <td>1.200553</td>\n",
       "    </tr>\n",
       "    <tr>\n",
       "      <th>CO</th>\n",
       "      <td>-0.365011</td>\n",
       "      <td>-0.365316</td>\n",
       "      <td>0.615051</td>\n",
       "      <td>-1.176710</td>\n",
       "      <td>-0.730326</td>\n",
       "    </tr>\n",
       "    <tr>\n",
       "      <th>NY</th>\n",
       "      <td>0.413228</td>\n",
       "      <td>0.828821</td>\n",
       "      <td>-0.192204</td>\n",
       "      <td>1.240294</td>\n",
       "      <td>1.242048</td>\n",
       "    </tr>\n",
       "    <tr>\n",
       "      <th>OR</th>\n",
       "      <td>-1.957988</td>\n",
       "      <td>1.780609</td>\n",
       "      <td>0.149691</td>\n",
       "      <td>0.586205</td>\n",
       "      <td>-0.177379</td>\n",
       "    </tr>\n",
       "  </tbody>\n",
       "</table>\n",
       "</div>"
      ],
      "text/plain": [
       "           apple    orange    banana     mango    cherry\n",
       "States                                                  \n",
       "CA      1.945499 -0.790929  0.113086  0.971008  1.154570\n",
       "AZ      0.111957  1.088596 -1.818121  1.530146  1.200553\n",
       "CO     -0.365011 -0.365316  0.615051 -1.176710 -0.730326\n",
       "NY      0.413228  0.828821 -0.192204  1.240294  1.242048\n",
       "OR     -1.957988  1.780609  0.149691  0.586205 -0.177379"
      ]
     },
     "execution_count": 30,
     "metadata": {},
     "output_type": "execute_result"
    }
   ],
   "source": [
    "# Step 3, replace new column with the index\n",
    "df.set_index('States')"
   ]
  },
  {
   "cell_type": "code",
   "execution_count": null,
   "metadata": {
    "collapsed": true
   },
   "outputs": [],
   "source": []
  }
 ],
 "metadata": {
  "kernelspec": {
   "display_name": "Python 2",
   "language": "python",
   "name": "python2"
  },
  "language_info": {
   "codemirror_mode": {
    "name": "ipython",
    "version": 2
   },
   "file_extension": ".py",
   "mimetype": "text/x-python",
   "name": "python",
   "nbconvert_exporter": "python",
   "pygments_lexer": "ipython2",
   "version": "2.7.15"
  }
 },
 "nbformat": 4,
 "nbformat_minor": 2
}
