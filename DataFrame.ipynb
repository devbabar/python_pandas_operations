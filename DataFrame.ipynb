{
 "cells": [
  {
   "cell_type": "markdown",
   "metadata": {
    "collapsed": true
   },
   "source": [
    "# DataFrame"
   ]
  },
  {
   "cell_type": "code",
   "execution_count": 8,
   "metadata": {},
   "outputs": [],
   "source": [
    "import numpy as np"
   ]
  },
  {
   "cell_type": "code",
   "execution_count": 9,
   "metadata": {},
   "outputs": [],
   "source": [
    "import pandas as pd"
   ]
  },
  {
   "cell_type": "code",
   "execution_count": 10,
   "metadata": {},
   "outputs": [],
   "source": [
    "# import randn to generate random numbers\n",
    "from numpy.random import randn"
   ]
  },
  {
   "cell_type": "markdown",
   "metadata": {},
   "source": [
    "#### Create a DataFrame\n",
    "Parameters pd.DataFrame(data=None, index=None, columns=None, dtype=None, copy=False)"
   ]
  },
  {
   "cell_type": "code",
   "execution_count": 11,
   "metadata": {},
   "outputs": [
    {
     "data": {
      "text/html": [
       "<div>\n",
       "<style scoped>\n",
       "    .dataframe tbody tr th:only-of-type {\n",
       "        vertical-align: middle;\n",
       "    }\n",
       "\n",
       "    .dataframe tbody tr th {\n",
       "        vertical-align: top;\n",
       "    }\n",
       "\n",
       "    .dataframe thead th {\n",
       "        text-align: right;\n",
       "    }\n",
       "</style>\n",
       "<table border=\"1\" class=\"dataframe\">\n",
       "  <thead>\n",
       "    <tr style=\"text-align: right;\">\n",
       "      <th></th>\n",
       "      <th>apple</th>\n",
       "      <th>orange</th>\n",
       "      <th>banana</th>\n",
       "      <th>mango</th>\n",
       "    </tr>\n",
       "  </thead>\n",
       "  <tbody>\n",
       "    <tr>\n",
       "      <th>a</th>\n",
       "      <td>-2.152134</td>\n",
       "      <td>-0.062459</td>\n",
       "      <td>-0.057595</td>\n",
       "      <td>-2.659398</td>\n",
       "    </tr>\n",
       "    <tr>\n",
       "      <th>b</th>\n",
       "      <td>-0.357584</td>\n",
       "      <td>0.654912</td>\n",
       "      <td>-1.083909</td>\n",
       "      <td>-1.604323</td>\n",
       "    </tr>\n",
       "    <tr>\n",
       "      <th>c</th>\n",
       "      <td>1.667731</td>\n",
       "      <td>1.732089</td>\n",
       "      <td>-0.167670</td>\n",
       "      <td>-0.736386</td>\n",
       "    </tr>\n",
       "    <tr>\n",
       "      <th>d</th>\n",
       "      <td>1.480926</td>\n",
       "      <td>-2.339357</td>\n",
       "      <td>1.084732</td>\n",
       "      <td>0.190094</td>\n",
       "    </tr>\n",
       "    <tr>\n",
       "      <th>e</th>\n",
       "      <td>0.879907</td>\n",
       "      <td>0.335050</td>\n",
       "      <td>-1.273007</td>\n",
       "      <td>-0.517827</td>\n",
       "    </tr>\n",
       "  </tbody>\n",
       "</table>\n",
       "</div>"
      ],
      "text/plain": [
       "      apple    orange    banana     mango\n",
       "a -2.152134 -0.062459 -0.057595 -2.659398\n",
       "b -0.357584  0.654912 -1.083909 -1.604323\n",
       "c  1.667731  1.732089 -0.167670 -0.736386\n",
       "d  1.480926 -2.339357  1.084732  0.190094\n",
       "e  0.879907  0.335050 -1.273007 -0.517827"
      ]
     },
     "execution_count": 11,
     "metadata": {},
     "output_type": "execute_result"
    }
   ],
   "source": [
    "# DataFrame with random numbers, 5 rows, 4 columns\n",
    "df=pd.DataFrame(data=randn(5,4), index= ['a','b','c','d','e'], columns=['apple','orange','banana','mango'])\n",
    "df"
   ]
  },
  {
   "cell_type": "markdown",
   "metadata": {},
   "source": [
    "#### how to grab any column, it return a Series"
   ]
  },
  {
   "cell_type": "code",
   "execution_count": 12,
   "metadata": {},
   "outputs": [
    {
     "data": {
      "text/plain": [
       "a   -2.152134\n",
       "b   -0.357584\n",
       "c    1.667731\n",
       "d    1.480926\n",
       "e    0.879907\n",
       "Name: apple, dtype: float64"
      ]
     },
     "execution_count": 12,
     "metadata": {},
     "output_type": "execute_result"
    }
   ],
   "source": [
    "# First way:\n",
    "df['apple']"
   ]
  },
  {
   "cell_type": "code",
   "execution_count": 13,
   "metadata": {},
   "outputs": [
    {
     "data": {
      "text/plain": [
       "a   -2.152134\n",
       "b   -0.357584\n",
       "c    1.667731\n",
       "d    1.480926\n",
       "e    0.879907\n",
       "Name: apple, dtype: float64"
      ]
     },
     "execution_count": 13,
     "metadata": {},
     "output_type": "execute_result"
    }
   ],
   "source": [
    "#Second way:\n",
    "df.apple"
   ]
  },
  {
   "cell_type": "markdown",
   "metadata": {},
   "source": [
    "#### Grab multiple columns, it will return a DataFrame"
   ]
  },
  {
   "cell_type": "code",
   "execution_count": 14,
   "metadata": {},
   "outputs": [
    {
     "data": {
      "text/html": [
       "<div>\n",
       "<style scoped>\n",
       "    .dataframe tbody tr th:only-of-type {\n",
       "        vertical-align: middle;\n",
       "    }\n",
       "\n",
       "    .dataframe tbody tr th {\n",
       "        vertical-align: top;\n",
       "    }\n",
       "\n",
       "    .dataframe thead th {\n",
       "        text-align: right;\n",
       "    }\n",
       "</style>\n",
       "<table border=\"1\" class=\"dataframe\">\n",
       "  <thead>\n",
       "    <tr style=\"text-align: right;\">\n",
       "      <th></th>\n",
       "      <th>apple</th>\n",
       "      <th>mango</th>\n",
       "    </tr>\n",
       "  </thead>\n",
       "  <tbody>\n",
       "    <tr>\n",
       "      <th>a</th>\n",
       "      <td>-2.152134</td>\n",
       "      <td>-2.659398</td>\n",
       "    </tr>\n",
       "    <tr>\n",
       "      <th>b</th>\n",
       "      <td>-0.357584</td>\n",
       "      <td>-1.604323</td>\n",
       "    </tr>\n",
       "    <tr>\n",
       "      <th>c</th>\n",
       "      <td>1.667731</td>\n",
       "      <td>-0.736386</td>\n",
       "    </tr>\n",
       "    <tr>\n",
       "      <th>d</th>\n",
       "      <td>1.480926</td>\n",
       "      <td>0.190094</td>\n",
       "    </tr>\n",
       "    <tr>\n",
       "      <th>e</th>\n",
       "      <td>0.879907</td>\n",
       "      <td>-0.517827</td>\n",
       "    </tr>\n",
       "  </tbody>\n",
       "</table>\n",
       "</div>"
      ],
      "text/plain": [
       "      apple     mango\n",
       "a -2.152134 -2.659398\n",
       "b -0.357584 -1.604323\n",
       "c  1.667731 -0.736386\n",
       "d  1.480926  0.190094\n",
       "e  0.879907 -0.517827"
      ]
     },
     "execution_count": 14,
     "metadata": {},
     "output_type": "execute_result"
    }
   ],
   "source": [
    "df[['apple','mango']]"
   ]
  },
  {
   "cell_type": "markdown",
   "metadata": {},
   "source": [
    "#### Insert a new column, add two columns and add sum of values into new column"
   ]
  },
  {
   "cell_type": "code",
   "execution_count": 15,
   "metadata": {},
   "outputs": [
    {
     "data": {
      "text/html": [
       "<div>\n",
       "<style scoped>\n",
       "    .dataframe tbody tr th:only-of-type {\n",
       "        vertical-align: middle;\n",
       "    }\n",
       "\n",
       "    .dataframe tbody tr th {\n",
       "        vertical-align: top;\n",
       "    }\n",
       "\n",
       "    .dataframe thead th {\n",
       "        text-align: right;\n",
       "    }\n",
       "</style>\n",
       "<table border=\"1\" class=\"dataframe\">\n",
       "  <thead>\n",
       "    <tr style=\"text-align: right;\">\n",
       "      <th></th>\n",
       "      <th>apple</th>\n",
       "      <th>orange</th>\n",
       "      <th>banana</th>\n",
       "      <th>mango</th>\n",
       "      <th>cherry</th>\n",
       "    </tr>\n",
       "  </thead>\n",
       "  <tbody>\n",
       "    <tr>\n",
       "      <th>a</th>\n",
       "      <td>-2.152134</td>\n",
       "      <td>-0.062459</td>\n",
       "      <td>-0.057595</td>\n",
       "      <td>-2.659398</td>\n",
       "      <td>-2.214593</td>\n",
       "    </tr>\n",
       "    <tr>\n",
       "      <th>b</th>\n",
       "      <td>-0.357584</td>\n",
       "      <td>0.654912</td>\n",
       "      <td>-1.083909</td>\n",
       "      <td>-1.604323</td>\n",
       "      <td>0.297328</td>\n",
       "    </tr>\n",
       "    <tr>\n",
       "      <th>c</th>\n",
       "      <td>1.667731</td>\n",
       "      <td>1.732089</td>\n",
       "      <td>-0.167670</td>\n",
       "      <td>-0.736386</td>\n",
       "      <td>3.399820</td>\n",
       "    </tr>\n",
       "    <tr>\n",
       "      <th>d</th>\n",
       "      <td>1.480926</td>\n",
       "      <td>-2.339357</td>\n",
       "      <td>1.084732</td>\n",
       "      <td>0.190094</td>\n",
       "      <td>-0.858430</td>\n",
       "    </tr>\n",
       "    <tr>\n",
       "      <th>e</th>\n",
       "      <td>0.879907</td>\n",
       "      <td>0.335050</td>\n",
       "      <td>-1.273007</td>\n",
       "      <td>-0.517827</td>\n",
       "      <td>1.214956</td>\n",
       "    </tr>\n",
       "  </tbody>\n",
       "</table>\n",
       "</div>"
      ],
      "text/plain": [
       "      apple    orange    banana     mango    cherry\n",
       "a -2.152134 -0.062459 -0.057595 -2.659398 -2.214593\n",
       "b -0.357584  0.654912 -1.083909 -1.604323  0.297328\n",
       "c  1.667731  1.732089 -0.167670 -0.736386  3.399820\n",
       "d  1.480926 -2.339357  1.084732  0.190094 -0.858430\n",
       "e  0.879907  0.335050 -1.273007 -0.517827  1.214956"
      ]
     },
     "execution_count": 15,
     "metadata": {},
     "output_type": "execute_result"
    }
   ],
   "source": [
    "df['cherry']=df['apple']+df['orange']\n",
    "df"
   ]
  },
  {
   "cell_type": "markdown",
   "metadata": {},
   "source": [
    "#### Drop or delete any column\n",
    "Note: By default, inplace=False, if you want a permanent change in DataFrame than it should be True"
   ]
  },
  {
   "cell_type": "code",
   "execution_count": 16,
   "metadata": {},
   "outputs": [
    {
     "data": {
      "text/html": [
       "<div>\n",
       "<style scoped>\n",
       "    .dataframe tbody tr th:only-of-type {\n",
       "        vertical-align: middle;\n",
       "    }\n",
       "\n",
       "    .dataframe tbody tr th {\n",
       "        vertical-align: top;\n",
       "    }\n",
       "\n",
       "    .dataframe thead th {\n",
       "        text-align: right;\n",
       "    }\n",
       "</style>\n",
       "<table border=\"1\" class=\"dataframe\">\n",
       "  <thead>\n",
       "    <tr style=\"text-align: right;\">\n",
       "      <th></th>\n",
       "      <th>apple</th>\n",
       "      <th>orange</th>\n",
       "      <th>banana</th>\n",
       "      <th>cherry</th>\n",
       "    </tr>\n",
       "  </thead>\n",
       "  <tbody>\n",
       "    <tr>\n",
       "      <th>a</th>\n",
       "      <td>-2.152134</td>\n",
       "      <td>-0.062459</td>\n",
       "      <td>-0.057595</td>\n",
       "      <td>-2.214593</td>\n",
       "    </tr>\n",
       "    <tr>\n",
       "      <th>b</th>\n",
       "      <td>-0.357584</td>\n",
       "      <td>0.654912</td>\n",
       "      <td>-1.083909</td>\n",
       "      <td>0.297328</td>\n",
       "    </tr>\n",
       "    <tr>\n",
       "      <th>c</th>\n",
       "      <td>1.667731</td>\n",
       "      <td>1.732089</td>\n",
       "      <td>-0.167670</td>\n",
       "      <td>3.399820</td>\n",
       "    </tr>\n",
       "    <tr>\n",
       "      <th>d</th>\n",
       "      <td>1.480926</td>\n",
       "      <td>-2.339357</td>\n",
       "      <td>1.084732</td>\n",
       "      <td>-0.858430</td>\n",
       "    </tr>\n",
       "    <tr>\n",
       "      <th>e</th>\n",
       "      <td>0.879907</td>\n",
       "      <td>0.335050</td>\n",
       "      <td>-1.273007</td>\n",
       "      <td>1.214956</td>\n",
       "    </tr>\n",
       "  </tbody>\n",
       "</table>\n",
       "</div>"
      ],
      "text/plain": [
       "      apple    orange    banana    cherry\n",
       "a -2.152134 -0.062459 -0.057595 -2.214593\n",
       "b -0.357584  0.654912 -1.083909  0.297328\n",
       "c  1.667731  1.732089 -0.167670  3.399820\n",
       "d  1.480926 -2.339357  1.084732 -0.858430\n",
       "e  0.879907  0.335050 -1.273007  1.214956"
      ]
     },
     "execution_count": 16,
     "metadata": {},
     "output_type": "execute_result"
    }
   ],
   "source": [
    "df.drop('mango',axis=1)"
   ]
  },
  {
   "cell_type": "markdown",
   "metadata": {},
   "source": [
    "#### deleting any row"
   ]
  },
  {
   "cell_type": "code",
   "execution_count": 17,
   "metadata": {
    "scrolled": true
   },
   "outputs": [
    {
     "data": {
      "text/html": [
       "<div>\n",
       "<style scoped>\n",
       "    .dataframe tbody tr th:only-of-type {\n",
       "        vertical-align: middle;\n",
       "    }\n",
       "\n",
       "    .dataframe tbody tr th {\n",
       "        vertical-align: top;\n",
       "    }\n",
       "\n",
       "    .dataframe thead th {\n",
       "        text-align: right;\n",
       "    }\n",
       "</style>\n",
       "<table border=\"1\" class=\"dataframe\">\n",
       "  <thead>\n",
       "    <tr style=\"text-align: right;\">\n",
       "      <th></th>\n",
       "      <th>apple</th>\n",
       "      <th>orange</th>\n",
       "      <th>banana</th>\n",
       "      <th>mango</th>\n",
       "      <th>cherry</th>\n",
       "    </tr>\n",
       "  </thead>\n",
       "  <tbody>\n",
       "    <tr>\n",
       "      <th>b</th>\n",
       "      <td>-0.357584</td>\n",
       "      <td>0.654912</td>\n",
       "      <td>-1.083909</td>\n",
       "      <td>-1.604323</td>\n",
       "      <td>0.297328</td>\n",
       "    </tr>\n",
       "    <tr>\n",
       "      <th>c</th>\n",
       "      <td>1.667731</td>\n",
       "      <td>1.732089</td>\n",
       "      <td>-0.167670</td>\n",
       "      <td>-0.736386</td>\n",
       "      <td>3.399820</td>\n",
       "    </tr>\n",
       "    <tr>\n",
       "      <th>d</th>\n",
       "      <td>1.480926</td>\n",
       "      <td>-2.339357</td>\n",
       "      <td>1.084732</td>\n",
       "      <td>0.190094</td>\n",
       "      <td>-0.858430</td>\n",
       "    </tr>\n",
       "    <tr>\n",
       "      <th>e</th>\n",
       "      <td>0.879907</td>\n",
       "      <td>0.335050</td>\n",
       "      <td>-1.273007</td>\n",
       "      <td>-0.517827</td>\n",
       "      <td>1.214956</td>\n",
       "    </tr>\n",
       "  </tbody>\n",
       "</table>\n",
       "</div>"
      ],
      "text/plain": [
       "      apple    orange    banana     mango    cherry\n",
       "b -0.357584  0.654912 -1.083909 -1.604323  0.297328\n",
       "c  1.667731  1.732089 -0.167670 -0.736386  3.399820\n",
       "d  1.480926 -2.339357  1.084732  0.190094 -0.858430\n",
       "e  0.879907  0.335050 -1.273007 -0.517827  1.214956"
      ]
     },
     "execution_count": 17,
     "metadata": {},
     "output_type": "execute_result"
    }
   ],
   "source": [
    "df.drop('a', axis=0)"
   ]
  },
  {
   "cell_type": "markdown",
   "metadata": {},
   "source": [
    "#### Selecting rows using loc( ) and iloc( ) method."
   ]
  },
  {
   "cell_type": "code",
   "execution_count": 18,
   "metadata": {},
   "outputs": [
    {
     "data": {
      "text/plain": [
       "apple    -2.152134\n",
       "orange   -0.062459\n",
       "banana   -0.057595\n",
       "mango    -2.659398\n",
       "cherry   -2.214593\n",
       "Name: a, dtype: float64"
      ]
     },
     "execution_count": 18,
     "metadata": {},
     "output_type": "execute_result"
    }
   ],
   "source": [
    "# it will return series\n",
    "df.loc['a']"
   ]
  },
  {
   "cell_type": "code",
   "execution_count": 19,
   "metadata": {},
   "outputs": [
    {
     "data": {
      "text/html": [
       "<div>\n",
       "<style scoped>\n",
       "    .dataframe tbody tr th:only-of-type {\n",
       "        vertical-align: middle;\n",
       "    }\n",
       "\n",
       "    .dataframe tbody tr th {\n",
       "        vertical-align: top;\n",
       "    }\n",
       "\n",
       "    .dataframe thead th {\n",
       "        text-align: right;\n",
       "    }\n",
       "</style>\n",
       "<table border=\"1\" class=\"dataframe\">\n",
       "  <thead>\n",
       "    <tr style=\"text-align: right;\">\n",
       "      <th></th>\n",
       "      <th>apple</th>\n",
       "      <th>orange</th>\n",
       "      <th>banana</th>\n",
       "      <th>mango</th>\n",
       "      <th>cherry</th>\n",
       "    </tr>\n",
       "  </thead>\n",
       "  <tbody>\n",
       "    <tr>\n",
       "      <th>a</th>\n",
       "      <td>-2.152134</td>\n",
       "      <td>-0.062459</td>\n",
       "      <td>-0.057595</td>\n",
       "      <td>-2.659398</td>\n",
       "      <td>-2.214593</td>\n",
       "    </tr>\n",
       "    <tr>\n",
       "      <th>b</th>\n",
       "      <td>-0.357584</td>\n",
       "      <td>0.654912</td>\n",
       "      <td>-1.083909</td>\n",
       "      <td>-1.604323</td>\n",
       "      <td>0.297328</td>\n",
       "    </tr>\n",
       "  </tbody>\n",
       "</table>\n",
       "</div>"
      ],
      "text/plain": [
       "      apple    orange    banana     mango    cherry\n",
       "a -2.152134 -0.062459 -0.057595 -2.659398 -2.214593\n",
       "b -0.357584  0.654912 -1.083909 -1.604323  0.297328"
      ]
     },
     "execution_count": 19,
     "metadata": {},
     "output_type": "execute_result"
    }
   ],
   "source": [
    "# multiple rows return Dataframe\n",
    "df.loc[['a','b']]"
   ]
  },
  {
   "cell_type": "code",
   "execution_count": 20,
   "metadata": {},
   "outputs": [
    {
     "data": {
      "text/plain": [
       "0.19009382713406933"
      ]
     },
     "execution_count": 20,
     "metadata": {},
     "output_type": "execute_result"
    }
   ],
   "source": [
    "# We could also grab a specific item in the DataFrame, e.g row = d , column = mango.\n",
    "df.loc['d','mango']"
   ]
  },
  {
   "cell_type": "code",
   "execution_count": 39,
   "metadata": {},
   "outputs": [
    {
     "data": {
      "text/html": [
       "<div>\n",
       "<style scoped>\n",
       "    .dataframe tbody tr th:only-of-type {\n",
       "        vertical-align: middle;\n",
       "    }\n",
       "\n",
       "    .dataframe tbody tr th {\n",
       "        vertical-align: top;\n",
       "    }\n",
       "\n",
       "    .dataframe thead th {\n",
       "        text-align: right;\n",
       "    }\n",
       "</style>\n",
       "<table border=\"1\" class=\"dataframe\">\n",
       "  <thead>\n",
       "    <tr style=\"text-align: right;\">\n",
       "      <th></th>\n",
       "      <th>mango</th>\n",
       "      <th>cherry</th>\n",
       "    </tr>\n",
       "  </thead>\n",
       "  <tbody>\n",
       "    <tr>\n",
       "      <th>a</th>\n",
       "      <td>-2.659398</td>\n",
       "      <td>-2.214593</td>\n",
       "    </tr>\n",
       "    <tr>\n",
       "      <th>b</th>\n",
       "      <td>-1.604323</td>\n",
       "      <td>0.297328</td>\n",
       "    </tr>\n",
       "  </tbody>\n",
       "</table>\n",
       "</div>"
      ],
      "text/plain": [
       "      mango    cherry\n",
       "a -2.659398 -2.214593\n",
       "b -1.604323  0.297328"
      ]
     },
     "execution_count": 39,
     "metadata": {},
     "output_type": "execute_result"
    }
   ],
   "source": [
    "# get a subset, rows = a & b, columns = mango and cherry\n",
    "df.loc[['a','b'],['mango','cherry']]"
   ]
  },
  {
   "cell_type": "code",
   "execution_count": 22,
   "metadata": {},
   "outputs": [
    {
     "data": {
      "text/plain": [
       "apple     1.480926\n",
       "orange   -2.339357\n",
       "banana    1.084732\n",
       "mango     0.190094\n",
       "cherry   -0.858430\n",
       "Name: d, dtype: float64"
      ]
     },
     "execution_count": 22,
     "metadata": {},
     "output_type": "execute_result"
    }
   ],
   "source": [
    "# iloc() select index location, e.g select 'd'\n",
    "df.iloc[3]"
   ]
  },
  {
   "cell_type": "code",
   "execution_count": 23,
   "metadata": {},
   "outputs": [
    {
     "data": {
      "text/plain": [
       "1.0847322110800748"
      ]
     },
     "execution_count": 23,
     "metadata": {},
     "output_type": "execute_result"
    }
   ],
   "source": [
    "# We could also grab a specific item in the DataFrame, e.g row = 3, column = 2.\n",
    "df.iloc[3,2]"
   ]
  },
  {
   "cell_type": "code",
   "execution_count": 24,
   "metadata": {},
   "outputs": [
    {
     "data": {
      "text/html": [
       "<div>\n",
       "<style scoped>\n",
       "    .dataframe tbody tr th:only-of-type {\n",
       "        vertical-align: middle;\n",
       "    }\n",
       "\n",
       "    .dataframe tbody tr th {\n",
       "        vertical-align: top;\n",
       "    }\n",
       "\n",
       "    .dataframe thead th {\n",
       "        text-align: right;\n",
       "    }\n",
       "</style>\n",
       "<table border=\"1\" class=\"dataframe\">\n",
       "  <thead>\n",
       "    <tr style=\"text-align: right;\">\n",
       "      <th></th>\n",
       "      <th>apple</th>\n",
       "      <th>orange</th>\n",
       "    </tr>\n",
       "  </thead>\n",
       "  <tbody>\n",
       "    <tr>\n",
       "      <th>b</th>\n",
       "      <td>-0.357584</td>\n",
       "      <td>0.654912</td>\n",
       "    </tr>\n",
       "    <tr>\n",
       "      <th>c</th>\n",
       "      <td>1.667731</td>\n",
       "      <td>1.732089</td>\n",
       "    </tr>\n",
       "  </tbody>\n",
       "</table>\n",
       "</div>"
      ],
      "text/plain": [
       "      apple    orange\n",
       "b -0.357584  0.654912\n",
       "c  1.667731  1.732089"
      ]
     },
     "execution_count": 24,
     "metadata": {},
     "output_type": "execute_result"
    }
   ],
   "source": [
    "# get a subset, rows = 1 & 2, columns = 0 & 1\n",
    "df.iloc[[1,2],[0,1]]"
   ]
  },
  {
   "cell_type": "markdown",
   "metadata": {},
   "source": [
    "# Conditional Operations"
   ]
  },
  {
   "cell_type": "code",
   "execution_count": 25,
   "metadata": {},
   "outputs": [
    {
     "data": {
      "text/html": [
       "<div>\n",
       "<style scoped>\n",
       "    .dataframe tbody tr th:only-of-type {\n",
       "        vertical-align: middle;\n",
       "    }\n",
       "\n",
       "    .dataframe tbody tr th {\n",
       "        vertical-align: top;\n",
       "    }\n",
       "\n",
       "    .dataframe thead th {\n",
       "        text-align: right;\n",
       "    }\n",
       "</style>\n",
       "<table border=\"1\" class=\"dataframe\">\n",
       "  <thead>\n",
       "    <tr style=\"text-align: right;\">\n",
       "      <th></th>\n",
       "      <th>apple</th>\n",
       "      <th>orange</th>\n",
       "      <th>banana</th>\n",
       "      <th>mango</th>\n",
       "      <th>cherry</th>\n",
       "    </tr>\n",
       "  </thead>\n",
       "  <tbody>\n",
       "    <tr>\n",
       "      <th>a</th>\n",
       "      <td>-2.152134</td>\n",
       "      <td>-0.062459</td>\n",
       "      <td>-0.057595</td>\n",
       "      <td>-2.659398</td>\n",
       "      <td>-2.214593</td>\n",
       "    </tr>\n",
       "    <tr>\n",
       "      <th>b</th>\n",
       "      <td>-0.357584</td>\n",
       "      <td>0.654912</td>\n",
       "      <td>-1.083909</td>\n",
       "      <td>-1.604323</td>\n",
       "      <td>0.297328</td>\n",
       "    </tr>\n",
       "    <tr>\n",
       "      <th>c</th>\n",
       "      <td>1.667731</td>\n",
       "      <td>1.732089</td>\n",
       "      <td>-0.167670</td>\n",
       "      <td>-0.736386</td>\n",
       "      <td>3.399820</td>\n",
       "    </tr>\n",
       "    <tr>\n",
       "      <th>d</th>\n",
       "      <td>1.480926</td>\n",
       "      <td>-2.339357</td>\n",
       "      <td>1.084732</td>\n",
       "      <td>0.190094</td>\n",
       "      <td>-0.858430</td>\n",
       "    </tr>\n",
       "    <tr>\n",
       "      <th>e</th>\n",
       "      <td>0.879907</td>\n",
       "      <td>0.335050</td>\n",
       "      <td>-1.273007</td>\n",
       "      <td>-0.517827</td>\n",
       "      <td>1.214956</td>\n",
       "    </tr>\n",
       "  </tbody>\n",
       "</table>\n",
       "</div>"
      ],
      "text/plain": [
       "      apple    orange    banana     mango    cherry\n",
       "a -2.152134 -0.062459 -0.057595 -2.659398 -2.214593\n",
       "b -0.357584  0.654912 -1.083909 -1.604323  0.297328\n",
       "c  1.667731  1.732089 -0.167670 -0.736386  3.399820\n",
       "d  1.480926 -2.339357  1.084732  0.190094 -0.858430\n",
       "e  0.879907  0.335050 -1.273007 -0.517827  1.214956"
      ]
     },
     "execution_count": 25,
     "metadata": {},
     "output_type": "execute_result"
    }
   ],
   "source": [
    "df"
   ]
  },
  {
   "cell_type": "markdown",
   "metadata": {},
   "source": [
    "#### show values which are greater than 0, return boolean values."
   ]
  },
  {
   "cell_type": "code",
   "execution_count": 26,
   "metadata": {},
   "outputs": [
    {
     "data": {
      "text/html": [
       "<div>\n",
       "<style scoped>\n",
       "    .dataframe tbody tr th:only-of-type {\n",
       "        vertical-align: middle;\n",
       "    }\n",
       "\n",
       "    .dataframe tbody tr th {\n",
       "        vertical-align: top;\n",
       "    }\n",
       "\n",
       "    .dataframe thead th {\n",
       "        text-align: right;\n",
       "    }\n",
       "</style>\n",
       "<table border=\"1\" class=\"dataframe\">\n",
       "  <thead>\n",
       "    <tr style=\"text-align: right;\">\n",
       "      <th></th>\n",
       "      <th>apple</th>\n",
       "      <th>orange</th>\n",
       "      <th>banana</th>\n",
       "      <th>mango</th>\n",
       "      <th>cherry</th>\n",
       "    </tr>\n",
       "  </thead>\n",
       "  <tbody>\n",
       "    <tr>\n",
       "      <th>a</th>\n",
       "      <td>False</td>\n",
       "      <td>False</td>\n",
       "      <td>False</td>\n",
       "      <td>False</td>\n",
       "      <td>False</td>\n",
       "    </tr>\n",
       "    <tr>\n",
       "      <th>b</th>\n",
       "      <td>False</td>\n",
       "      <td>True</td>\n",
       "      <td>False</td>\n",
       "      <td>False</td>\n",
       "      <td>True</td>\n",
       "    </tr>\n",
       "    <tr>\n",
       "      <th>c</th>\n",
       "      <td>True</td>\n",
       "      <td>True</td>\n",
       "      <td>False</td>\n",
       "      <td>False</td>\n",
       "      <td>True</td>\n",
       "    </tr>\n",
       "    <tr>\n",
       "      <th>d</th>\n",
       "      <td>True</td>\n",
       "      <td>False</td>\n",
       "      <td>True</td>\n",
       "      <td>True</td>\n",
       "      <td>False</td>\n",
       "    </tr>\n",
       "    <tr>\n",
       "      <th>e</th>\n",
       "      <td>True</td>\n",
       "      <td>True</td>\n",
       "      <td>False</td>\n",
       "      <td>False</td>\n",
       "      <td>True</td>\n",
       "    </tr>\n",
       "  </tbody>\n",
       "</table>\n",
       "</div>"
      ],
      "text/plain": [
       "   apple  orange  banana  mango  cherry\n",
       "a  False   False   False  False   False\n",
       "b  False    True   False  False    True\n",
       "c   True    True   False  False    True\n",
       "d   True   False    True   True   False\n",
       "e   True    True   False  False    True"
      ]
     },
     "execution_count": 26,
     "metadata": {},
     "output_type": "execute_result"
    }
   ],
   "source": [
    "df>0"
   ]
  },
  {
   "cell_type": "code",
   "execution_count": 27,
   "metadata": {},
   "outputs": [
    {
     "data": {
      "text/plain": [
       "a    False\n",
       "b    False\n",
       "c     True\n",
       "d     True\n",
       "e     True\n",
       "Name: apple, dtype: bool"
      ]
     },
     "execution_count": 27,
     "metadata": {},
     "output_type": "execute_result"
    }
   ],
   "source": [
    "# we can apply condition on only one column, will return boolean\n",
    "df['apple']>0"
   ]
  },
  {
   "cell_type": "code",
   "execution_count": 28,
   "metadata": {},
   "outputs": [
    {
     "data": {
      "text/html": [
       "<div>\n",
       "<style scoped>\n",
       "    .dataframe tbody tr th:only-of-type {\n",
       "        vertical-align: middle;\n",
       "    }\n",
       "\n",
       "    .dataframe tbody tr th {\n",
       "        vertical-align: top;\n",
       "    }\n",
       "\n",
       "    .dataframe thead th {\n",
       "        text-align: right;\n",
       "    }\n",
       "</style>\n",
       "<table border=\"1\" class=\"dataframe\">\n",
       "  <thead>\n",
       "    <tr style=\"text-align: right;\">\n",
       "      <th></th>\n",
       "      <th>banana</th>\n",
       "      <th>mango</th>\n",
       "    </tr>\n",
       "  </thead>\n",
       "  <tbody>\n",
       "    <tr>\n",
       "      <th>c</th>\n",
       "      <td>-0.167670</td>\n",
       "      <td>-0.736386</td>\n",
       "    </tr>\n",
       "    <tr>\n",
       "      <th>d</th>\n",
       "      <td>1.084732</td>\n",
       "      <td>0.190094</td>\n",
       "    </tr>\n",
       "    <tr>\n",
       "      <th>e</th>\n",
       "      <td>-1.273007</td>\n",
       "      <td>-0.517827</td>\n",
       "    </tr>\n",
       "  </tbody>\n",
       "</table>\n",
       "</div>"
      ],
      "text/plain": [
       "     banana     mango\n",
       "c -0.167670 -0.736386\n",
       "d  1.084732  0.190094\n",
       "e -1.273007 -0.517827"
      ]
     },
     "execution_count": 28,
     "metadata": {},
     "output_type": "execute_result"
    }
   ],
   "source": [
    "# Another way of doing above and also display addition columns such as banana and mango, return positive rows with\n",
    "#respect of 'apple'.\n",
    "df[df['apple']>0][['banana','mango']]"
   ]
  },
  {
   "cell_type": "code",
   "execution_count": 29,
   "metadata": {},
   "outputs": [
    {
     "data": {
      "text/html": [
       "<div>\n",
       "<style scoped>\n",
       "    .dataframe tbody tr th:only-of-type {\n",
       "        vertical-align: middle;\n",
       "    }\n",
       "\n",
       "    .dataframe tbody tr th {\n",
       "        vertical-align: top;\n",
       "    }\n",
       "\n",
       "    .dataframe thead th {\n",
       "        text-align: right;\n",
       "    }\n",
       "</style>\n",
       "<table border=\"1\" class=\"dataframe\">\n",
       "  <thead>\n",
       "    <tr style=\"text-align: right;\">\n",
       "      <th></th>\n",
       "      <th>apple</th>\n",
       "      <th>orange</th>\n",
       "      <th>banana</th>\n",
       "      <th>mango</th>\n",
       "      <th>cherry</th>\n",
       "    </tr>\n",
       "  </thead>\n",
       "  <tbody>\n",
       "    <tr>\n",
       "      <th>c</th>\n",
       "      <td>1.667731</td>\n",
       "      <td>1.732089</td>\n",
       "      <td>-0.167670</td>\n",
       "      <td>-0.736386</td>\n",
       "      <td>3.399820</td>\n",
       "    </tr>\n",
       "    <tr>\n",
       "      <th>d</th>\n",
       "      <td>1.480926</td>\n",
       "      <td>-2.339357</td>\n",
       "      <td>1.084732</td>\n",
       "      <td>0.190094</td>\n",
       "      <td>-0.858430</td>\n",
       "    </tr>\n",
       "    <tr>\n",
       "      <th>e</th>\n",
       "      <td>0.879907</td>\n",
       "      <td>0.335050</td>\n",
       "      <td>-1.273007</td>\n",
       "      <td>-0.517827</td>\n",
       "      <td>1.214956</td>\n",
       "    </tr>\n",
       "  </tbody>\n",
       "</table>\n",
       "</div>"
      ],
      "text/plain": [
       "      apple    orange    banana     mango    cherry\n",
       "c  1.667731  1.732089 -0.167670 -0.736386  3.399820\n",
       "d  1.480926 -2.339357  1.084732  0.190094 -0.858430\n",
       "e  0.879907  0.335050 -1.273007 -0.517827  1.214956"
      ]
     },
     "execution_count": 29,
     "metadata": {},
     "output_type": "execute_result"
    }
   ],
   "source": [
    "# we can get the whole DataFrame back but only apply condition to only one column, e.g 'apple, return only True rows.\n",
    "df[df['apple']>0]"
   ]
  },
  {
   "cell_type": "code",
   "execution_count": 30,
   "metadata": {},
   "outputs": [
    {
     "data": {
      "text/html": [
       "<div>\n",
       "<style scoped>\n",
       "    .dataframe tbody tr th:only-of-type {\n",
       "        vertical-align: middle;\n",
       "    }\n",
       "\n",
       "    .dataframe tbody tr th {\n",
       "        vertical-align: top;\n",
       "    }\n",
       "\n",
       "    .dataframe thead th {\n",
       "        text-align: right;\n",
       "    }\n",
       "</style>\n",
       "<table border=\"1\" class=\"dataframe\">\n",
       "  <thead>\n",
       "    <tr style=\"text-align: right;\">\n",
       "      <th></th>\n",
       "      <th>apple</th>\n",
       "      <th>orange</th>\n",
       "      <th>banana</th>\n",
       "      <th>mango</th>\n",
       "      <th>cherry</th>\n",
       "    </tr>\n",
       "  </thead>\n",
       "  <tbody>\n",
       "    <tr>\n",
       "      <th>a</th>\n",
       "      <td>NaN</td>\n",
       "      <td>NaN</td>\n",
       "      <td>NaN</td>\n",
       "      <td>NaN</td>\n",
       "      <td>NaN</td>\n",
       "    </tr>\n",
       "    <tr>\n",
       "      <th>b</th>\n",
       "      <td>NaN</td>\n",
       "      <td>0.654912</td>\n",
       "      <td>NaN</td>\n",
       "      <td>NaN</td>\n",
       "      <td>0.297328</td>\n",
       "    </tr>\n",
       "    <tr>\n",
       "      <th>c</th>\n",
       "      <td>1.667731</td>\n",
       "      <td>1.732089</td>\n",
       "      <td>NaN</td>\n",
       "      <td>NaN</td>\n",
       "      <td>3.399820</td>\n",
       "    </tr>\n",
       "    <tr>\n",
       "      <th>d</th>\n",
       "      <td>1.480926</td>\n",
       "      <td>NaN</td>\n",
       "      <td>1.084732</td>\n",
       "      <td>0.190094</td>\n",
       "      <td>NaN</td>\n",
       "    </tr>\n",
       "    <tr>\n",
       "      <th>e</th>\n",
       "      <td>0.879907</td>\n",
       "      <td>0.335050</td>\n",
       "      <td>NaN</td>\n",
       "      <td>NaN</td>\n",
       "      <td>1.214956</td>\n",
       "    </tr>\n",
       "  </tbody>\n",
       "</table>\n",
       "</div>"
      ],
      "text/plain": [
       "      apple    orange    banana     mango    cherry\n",
       "a       NaN       NaN       NaN       NaN       NaN\n",
       "b       NaN  0.654912       NaN       NaN  0.297328\n",
       "c  1.667731  1.732089       NaN       NaN  3.399820\n",
       "d  1.480926       NaN  1.084732  0.190094       NaN\n",
       "e  0.879907  0.335050       NaN       NaN  1.214956"
      ]
     },
     "execution_count": 30,
     "metadata": {},
     "output_type": "execute_result"
    }
   ],
   "source": [
    "df[df>0]"
   ]
  },
  {
   "cell_type": "markdown",
   "metadata": {},
   "source": [
    "### Multiple Conditions \n",
    "##### Show all values greater than 0 in column 'apple' and 'mango'"
   ]
  },
  {
   "cell_type": "code",
   "execution_count": 31,
   "metadata": {},
   "outputs": [
    {
     "data": {
      "text/html": [
       "<div>\n",
       "<style scoped>\n",
       "    .dataframe tbody tr th:only-of-type {\n",
       "        vertical-align: middle;\n",
       "    }\n",
       "\n",
       "    .dataframe tbody tr th {\n",
       "        vertical-align: top;\n",
       "    }\n",
       "\n",
       "    .dataframe thead th {\n",
       "        text-align: right;\n",
       "    }\n",
       "</style>\n",
       "<table border=\"1\" class=\"dataframe\">\n",
       "  <thead>\n",
       "    <tr style=\"text-align: right;\">\n",
       "      <th></th>\n",
       "      <th>apple</th>\n",
       "      <th>orange</th>\n",
       "      <th>banana</th>\n",
       "      <th>mango</th>\n",
       "      <th>cherry</th>\n",
       "    </tr>\n",
       "  </thead>\n",
       "  <tbody>\n",
       "    <tr>\n",
       "      <th>d</th>\n",
       "      <td>1.480926</td>\n",
       "      <td>-2.339357</td>\n",
       "      <td>1.084732</td>\n",
       "      <td>0.190094</td>\n",
       "      <td>-0.85843</td>\n",
       "    </tr>\n",
       "  </tbody>\n",
       "</table>\n",
       "</div>"
      ],
      "text/plain": [
       "      apple    orange    banana     mango   cherry\n",
       "d  1.480926 -2.339357  1.084732  0.190094 -0.85843"
      ]
     },
     "execution_count": 31,
     "metadata": {},
     "output_type": "execute_result"
    }
   ],
   "source": [
    "# Both conditions should be true\n",
    "df[(df['apple']>0) & (df['mango']>0)]"
   ]
  },
  {
   "cell_type": "markdown",
   "metadata": {},
   "source": [
    "##### Show all values greater than 0 in column 'apple' or 'mango'"
   ]
  },
  {
   "cell_type": "code",
   "execution_count": 32,
   "metadata": {},
   "outputs": [
    {
     "data": {
      "text/html": [
       "<div>\n",
       "<style scoped>\n",
       "    .dataframe tbody tr th:only-of-type {\n",
       "        vertical-align: middle;\n",
       "    }\n",
       "\n",
       "    .dataframe tbody tr th {\n",
       "        vertical-align: top;\n",
       "    }\n",
       "\n",
       "    .dataframe thead th {\n",
       "        text-align: right;\n",
       "    }\n",
       "</style>\n",
       "<table border=\"1\" class=\"dataframe\">\n",
       "  <thead>\n",
       "    <tr style=\"text-align: right;\">\n",
       "      <th></th>\n",
       "      <th>apple</th>\n",
       "      <th>orange</th>\n",
       "      <th>banana</th>\n",
       "      <th>mango</th>\n",
       "      <th>cherry</th>\n",
       "    </tr>\n",
       "  </thead>\n",
       "  <tbody>\n",
       "    <tr>\n",
       "      <th>c</th>\n",
       "      <td>1.667731</td>\n",
       "      <td>1.732089</td>\n",
       "      <td>-0.167670</td>\n",
       "      <td>-0.736386</td>\n",
       "      <td>3.399820</td>\n",
       "    </tr>\n",
       "    <tr>\n",
       "      <th>d</th>\n",
       "      <td>1.480926</td>\n",
       "      <td>-2.339357</td>\n",
       "      <td>1.084732</td>\n",
       "      <td>0.190094</td>\n",
       "      <td>-0.858430</td>\n",
       "    </tr>\n",
       "    <tr>\n",
       "      <th>e</th>\n",
       "      <td>0.879907</td>\n",
       "      <td>0.335050</td>\n",
       "      <td>-1.273007</td>\n",
       "      <td>-0.517827</td>\n",
       "      <td>1.214956</td>\n",
       "    </tr>\n",
       "  </tbody>\n",
       "</table>\n",
       "</div>"
      ],
      "text/plain": [
       "      apple    orange    banana     mango    cherry\n",
       "c  1.667731  1.732089 -0.167670 -0.736386  3.399820\n",
       "d  1.480926 -2.339357  1.084732  0.190094 -0.858430\n",
       "e  0.879907  0.335050 -1.273007 -0.517827  1.214956"
      ]
     },
     "execution_count": 32,
     "metadata": {},
     "output_type": "execute_result"
    }
   ],
   "source": [
    "# this will return all the values in both columns which are greater than 0.\n",
    "df[(df['apple']>0) | (df['mango']>0)]"
   ]
  },
  {
   "cell_type": "markdown",
   "metadata": {},
   "source": [
    "### Reset index\n",
    "##### Index becomes a new column"
   ]
  },
  {
   "cell_type": "code",
   "execution_count": 33,
   "metadata": {},
   "outputs": [
    {
     "data": {
      "text/html": [
       "<div>\n",
       "<style scoped>\n",
       "    .dataframe tbody tr th:only-of-type {\n",
       "        vertical-align: middle;\n",
       "    }\n",
       "\n",
       "    .dataframe tbody tr th {\n",
       "        vertical-align: top;\n",
       "    }\n",
       "\n",
       "    .dataframe thead th {\n",
       "        text-align: right;\n",
       "    }\n",
       "</style>\n",
       "<table border=\"1\" class=\"dataframe\">\n",
       "  <thead>\n",
       "    <tr style=\"text-align: right;\">\n",
       "      <th></th>\n",
       "      <th>apple</th>\n",
       "      <th>orange</th>\n",
       "      <th>banana</th>\n",
       "      <th>mango</th>\n",
       "      <th>cherry</th>\n",
       "    </tr>\n",
       "  </thead>\n",
       "  <tbody>\n",
       "    <tr>\n",
       "      <th>a</th>\n",
       "      <td>-2.152134</td>\n",
       "      <td>-0.062459</td>\n",
       "      <td>-0.057595</td>\n",
       "      <td>-2.659398</td>\n",
       "      <td>-2.214593</td>\n",
       "    </tr>\n",
       "    <tr>\n",
       "      <th>b</th>\n",
       "      <td>-0.357584</td>\n",
       "      <td>0.654912</td>\n",
       "      <td>-1.083909</td>\n",
       "      <td>-1.604323</td>\n",
       "      <td>0.297328</td>\n",
       "    </tr>\n",
       "    <tr>\n",
       "      <th>c</th>\n",
       "      <td>1.667731</td>\n",
       "      <td>1.732089</td>\n",
       "      <td>-0.167670</td>\n",
       "      <td>-0.736386</td>\n",
       "      <td>3.399820</td>\n",
       "    </tr>\n",
       "    <tr>\n",
       "      <th>d</th>\n",
       "      <td>1.480926</td>\n",
       "      <td>-2.339357</td>\n",
       "      <td>1.084732</td>\n",
       "      <td>0.190094</td>\n",
       "      <td>-0.858430</td>\n",
       "    </tr>\n",
       "    <tr>\n",
       "      <th>e</th>\n",
       "      <td>0.879907</td>\n",
       "      <td>0.335050</td>\n",
       "      <td>-1.273007</td>\n",
       "      <td>-0.517827</td>\n",
       "      <td>1.214956</td>\n",
       "    </tr>\n",
       "  </tbody>\n",
       "</table>\n",
       "</div>"
      ],
      "text/plain": [
       "      apple    orange    banana     mango    cherry\n",
       "a -2.152134 -0.062459 -0.057595 -2.659398 -2.214593\n",
       "b -0.357584  0.654912 -1.083909 -1.604323  0.297328\n",
       "c  1.667731  1.732089 -0.167670 -0.736386  3.399820\n",
       "d  1.480926 -2.339357  1.084732  0.190094 -0.858430\n",
       "e  0.879907  0.335050 -1.273007 -0.517827  1.214956"
      ]
     },
     "execution_count": 33,
     "metadata": {},
     "output_type": "execute_result"
    }
   ],
   "source": [
    "df"
   ]
  },
  {
   "cell_type": "code",
   "execution_count": 34,
   "metadata": {},
   "outputs": [
    {
     "data": {
      "text/html": [
       "<div>\n",
       "<style scoped>\n",
       "    .dataframe tbody tr th:only-of-type {\n",
       "        vertical-align: middle;\n",
       "    }\n",
       "\n",
       "    .dataframe tbody tr th {\n",
       "        vertical-align: top;\n",
       "    }\n",
       "\n",
       "    .dataframe thead th {\n",
       "        text-align: right;\n",
       "    }\n",
       "</style>\n",
       "<table border=\"1\" class=\"dataframe\">\n",
       "  <thead>\n",
       "    <tr style=\"text-align: right;\">\n",
       "      <th></th>\n",
       "      <th>index</th>\n",
       "      <th>apple</th>\n",
       "      <th>orange</th>\n",
       "      <th>banana</th>\n",
       "      <th>mango</th>\n",
       "      <th>cherry</th>\n",
       "    </tr>\n",
       "  </thead>\n",
       "  <tbody>\n",
       "    <tr>\n",
       "      <th>0</th>\n",
       "      <td>a</td>\n",
       "      <td>-2.152134</td>\n",
       "      <td>-0.062459</td>\n",
       "      <td>-0.057595</td>\n",
       "      <td>-2.659398</td>\n",
       "      <td>-2.214593</td>\n",
       "    </tr>\n",
       "    <tr>\n",
       "      <th>1</th>\n",
       "      <td>b</td>\n",
       "      <td>-0.357584</td>\n",
       "      <td>0.654912</td>\n",
       "      <td>-1.083909</td>\n",
       "      <td>-1.604323</td>\n",
       "      <td>0.297328</td>\n",
       "    </tr>\n",
       "    <tr>\n",
       "      <th>2</th>\n",
       "      <td>c</td>\n",
       "      <td>1.667731</td>\n",
       "      <td>1.732089</td>\n",
       "      <td>-0.167670</td>\n",
       "      <td>-0.736386</td>\n",
       "      <td>3.399820</td>\n",
       "    </tr>\n",
       "    <tr>\n",
       "      <th>3</th>\n",
       "      <td>d</td>\n",
       "      <td>1.480926</td>\n",
       "      <td>-2.339357</td>\n",
       "      <td>1.084732</td>\n",
       "      <td>0.190094</td>\n",
       "      <td>-0.858430</td>\n",
       "    </tr>\n",
       "    <tr>\n",
       "      <th>4</th>\n",
       "      <td>e</td>\n",
       "      <td>0.879907</td>\n",
       "      <td>0.335050</td>\n",
       "      <td>-1.273007</td>\n",
       "      <td>-0.517827</td>\n",
       "      <td>1.214956</td>\n",
       "    </tr>\n",
       "  </tbody>\n",
       "</table>\n",
       "</div>"
      ],
      "text/plain": [
       "  index     apple    orange    banana     mango    cherry\n",
       "0     a -2.152134 -0.062459 -0.057595 -2.659398 -2.214593\n",
       "1     b -0.357584  0.654912 -1.083909 -1.604323  0.297328\n",
       "2     c  1.667731  1.732089 -0.167670 -0.736386  3.399820\n",
       "3     d  1.480926 -2.339357  1.084732  0.190094 -0.858430\n",
       "4     e  0.879907  0.335050 -1.273007 -0.517827  1.214956"
      ]
     },
     "execution_count": 34,
     "metadata": {},
     "output_type": "execute_result"
    }
   ],
   "source": [
    "df.reset_index()"
   ]
  },
  {
   "cell_type": "markdown",
   "metadata": {},
   "source": [
    "#### insert new column and set it as index"
   ]
  },
  {
   "cell_type": "code",
   "execution_count": 35,
   "metadata": {},
   "outputs": [],
   "source": [
    "# Step 1, make a list.\n",
    "new_index=['CA','AZ','CO','NY','OR']"
   ]
  },
  {
   "cell_type": "code",
   "execution_count": 36,
   "metadata": {},
   "outputs": [
    {
     "data": {
      "text/html": [
       "<div>\n",
       "<style scoped>\n",
       "    .dataframe tbody tr th:only-of-type {\n",
       "        vertical-align: middle;\n",
       "    }\n",
       "\n",
       "    .dataframe tbody tr th {\n",
       "        vertical-align: top;\n",
       "    }\n",
       "\n",
       "    .dataframe thead th {\n",
       "        text-align: right;\n",
       "    }\n",
       "</style>\n",
       "<table border=\"1\" class=\"dataframe\">\n",
       "  <thead>\n",
       "    <tr style=\"text-align: right;\">\n",
       "      <th></th>\n",
       "      <th>apple</th>\n",
       "      <th>orange</th>\n",
       "      <th>banana</th>\n",
       "      <th>mango</th>\n",
       "      <th>cherry</th>\n",
       "      <th>States</th>\n",
       "    </tr>\n",
       "  </thead>\n",
       "  <tbody>\n",
       "    <tr>\n",
       "      <th>a</th>\n",
       "      <td>-2.152134</td>\n",
       "      <td>-0.062459</td>\n",
       "      <td>-0.057595</td>\n",
       "      <td>-2.659398</td>\n",
       "      <td>-2.214593</td>\n",
       "      <td>CA</td>\n",
       "    </tr>\n",
       "    <tr>\n",
       "      <th>b</th>\n",
       "      <td>-0.357584</td>\n",
       "      <td>0.654912</td>\n",
       "      <td>-1.083909</td>\n",
       "      <td>-1.604323</td>\n",
       "      <td>0.297328</td>\n",
       "      <td>AZ</td>\n",
       "    </tr>\n",
       "    <tr>\n",
       "      <th>c</th>\n",
       "      <td>1.667731</td>\n",
       "      <td>1.732089</td>\n",
       "      <td>-0.167670</td>\n",
       "      <td>-0.736386</td>\n",
       "      <td>3.399820</td>\n",
       "      <td>CO</td>\n",
       "    </tr>\n",
       "    <tr>\n",
       "      <th>d</th>\n",
       "      <td>1.480926</td>\n",
       "      <td>-2.339357</td>\n",
       "      <td>1.084732</td>\n",
       "      <td>0.190094</td>\n",
       "      <td>-0.858430</td>\n",
       "      <td>NY</td>\n",
       "    </tr>\n",
       "    <tr>\n",
       "      <th>e</th>\n",
       "      <td>0.879907</td>\n",
       "      <td>0.335050</td>\n",
       "      <td>-1.273007</td>\n",
       "      <td>-0.517827</td>\n",
       "      <td>1.214956</td>\n",
       "      <td>OR</td>\n",
       "    </tr>\n",
       "  </tbody>\n",
       "</table>\n",
       "</div>"
      ],
      "text/plain": [
       "      apple    orange    banana     mango    cherry States\n",
       "a -2.152134 -0.062459 -0.057595 -2.659398 -2.214593     CA\n",
       "b -0.357584  0.654912 -1.083909 -1.604323  0.297328     AZ\n",
       "c  1.667731  1.732089 -0.167670 -0.736386  3.399820     CO\n",
       "d  1.480926 -2.339357  1.084732  0.190094 -0.858430     NY\n",
       "e  0.879907  0.335050 -1.273007 -0.517827  1.214956     OR"
      ]
     },
     "execution_count": 36,
     "metadata": {},
     "output_type": "execute_result"
    }
   ],
   "source": [
    "# Step 2, add a new columns\n",
    "df['States']=new_index\n",
    "df"
   ]
  },
  {
   "cell_type": "code",
   "execution_count": 37,
   "metadata": {},
   "outputs": [
    {
     "data": {
      "text/html": [
       "<div>\n",
       "<style scoped>\n",
       "    .dataframe tbody tr th:only-of-type {\n",
       "        vertical-align: middle;\n",
       "    }\n",
       "\n",
       "    .dataframe tbody tr th {\n",
       "        vertical-align: top;\n",
       "    }\n",
       "\n",
       "    .dataframe thead th {\n",
       "        text-align: right;\n",
       "    }\n",
       "</style>\n",
       "<table border=\"1\" class=\"dataframe\">\n",
       "  <thead>\n",
       "    <tr style=\"text-align: right;\">\n",
       "      <th></th>\n",
       "      <th>apple</th>\n",
       "      <th>orange</th>\n",
       "      <th>banana</th>\n",
       "      <th>mango</th>\n",
       "      <th>cherry</th>\n",
       "    </tr>\n",
       "    <tr>\n",
       "      <th>States</th>\n",
       "      <th></th>\n",
       "      <th></th>\n",
       "      <th></th>\n",
       "      <th></th>\n",
       "      <th></th>\n",
       "    </tr>\n",
       "  </thead>\n",
       "  <tbody>\n",
       "    <tr>\n",
       "      <th>CA</th>\n",
       "      <td>-2.152134</td>\n",
       "      <td>-0.062459</td>\n",
       "      <td>-0.057595</td>\n",
       "      <td>-2.659398</td>\n",
       "      <td>-2.214593</td>\n",
       "    </tr>\n",
       "    <tr>\n",
       "      <th>AZ</th>\n",
       "      <td>-0.357584</td>\n",
       "      <td>0.654912</td>\n",
       "      <td>-1.083909</td>\n",
       "      <td>-1.604323</td>\n",
       "      <td>0.297328</td>\n",
       "    </tr>\n",
       "    <tr>\n",
       "      <th>CO</th>\n",
       "      <td>1.667731</td>\n",
       "      <td>1.732089</td>\n",
       "      <td>-0.167670</td>\n",
       "      <td>-0.736386</td>\n",
       "      <td>3.399820</td>\n",
       "    </tr>\n",
       "    <tr>\n",
       "      <th>NY</th>\n",
       "      <td>1.480926</td>\n",
       "      <td>-2.339357</td>\n",
       "      <td>1.084732</td>\n",
       "      <td>0.190094</td>\n",
       "      <td>-0.858430</td>\n",
       "    </tr>\n",
       "    <tr>\n",
       "      <th>OR</th>\n",
       "      <td>0.879907</td>\n",
       "      <td>0.335050</td>\n",
       "      <td>-1.273007</td>\n",
       "      <td>-0.517827</td>\n",
       "      <td>1.214956</td>\n",
       "    </tr>\n",
       "  </tbody>\n",
       "</table>\n",
       "</div>"
      ],
      "text/plain": [
       "           apple    orange    banana     mango    cherry\n",
       "States                                                  \n",
       "CA     -2.152134 -0.062459 -0.057595 -2.659398 -2.214593\n",
       "AZ     -0.357584  0.654912 -1.083909 -1.604323  0.297328\n",
       "CO      1.667731  1.732089 -0.167670 -0.736386  3.399820\n",
       "NY      1.480926 -2.339357  1.084732  0.190094 -0.858430\n",
       "OR      0.879907  0.335050 -1.273007 -0.517827  1.214956"
      ]
     },
     "execution_count": 37,
     "metadata": {},
     "output_type": "execute_result"
    }
   ],
   "source": [
    "# Step 3, replace new column with the index\n",
    "df.set_index('States')"
   ]
  },
  {
   "cell_type": "code",
   "execution_count": null,
   "metadata": {},
   "outputs": [],
   "source": []
  }
 ],
 "metadata": {
  "kernelspec": {
   "display_name": "Python 2",
   "language": "python",
   "name": "python2"
  },
  "language_info": {
   "codemirror_mode": {
    "name": "ipython",
    "version": 2
   },
   "file_extension": ".py",
   "mimetype": "text/x-python",
   "name": "python",
   "nbconvert_exporter": "python",
   "pygments_lexer": "ipython2",
   "version": "2.7.15"
  }
 },
 "nbformat": 4,
 "nbformat_minor": 2
}
